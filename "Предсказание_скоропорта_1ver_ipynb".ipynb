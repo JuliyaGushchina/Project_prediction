{
  "nbformat": 4,
  "nbformat_minor": 0,
  "metadata": {
    "colab": {
      "provenance": [],
      "mount_file_id": "1KXL5Lezzptzf72h6cWLLAsovpv7Tfn7X",
      "authorship_tag": "ABX9TyMfs+uzhztGyGv4B0UdLDRC",
      "include_colab_link": true
    },
    "kernelspec": {
      "name": "python3",
      "display_name": "Python 3"
    },
    "language_info": {
      "name": "python"
    }
  },
  "cells": [
    {
      "cell_type": "markdown",
      "metadata": {
        "id": "view-in-github",
        "colab_type": "text"
      },
      "source": [
        "<a href=\"https://colab.research.google.com/github/JuliyaGushchina/Project_prediction/blob/main/%22%D0%9F%D1%80%D0%B5%D0%B4%D1%81%D0%BA%D0%B0%D0%B7%D0%B0%D0%BD%D0%B8%D0%B5_%D1%81%D0%BA%D0%BE%D1%80%D0%BE%D0%BF%D0%BE%D1%80%D1%82%D0%B0_1ver_ipynb%22.ipynb\" target=\"_parent\"><img src=\"https://colab.research.google.com/assets/colab-badge.svg\" alt=\"Open In Colab\"/></a>"
      ]
    },
    {
      "cell_type": "markdown",
      "source": [
        "\n",
        "\n",
        "# Загрузка данных\n",
        "\n",
        "\n"
      ],
      "metadata": {
        "id": "WYX1dHFbkTJK"
      }
    },
    {
      "cell_type": "markdown",
      "source": [
        "##Описание задачи"
      ],
      "metadata": {
        "id": "ngiXqWx9aPFE"
      }
    },
    {
      "cell_type": "markdown",
      "source": [
        "Предсказать продажи товаров категории \"скоропортящиеся\", то есть имеющие ограниченный срок употребления, в разрезе часов. Иными словами, предоставить рекомендательную систему для оператора АЗС с выкладкой хот-догов на гриль."
      ],
      "metadata": {
        "id": "bME1OHr3ah4A"
      }
    },
    {
      "cell_type": "markdown",
      "source": [
        "Задача:\n",
        "\n",
        "\n",
        "*   Адресная программа - 45 АЗС\n",
        "*   Категория товаров \"Хот-доги\"\n",
        "*   Данные представлены с 01 июля 2023 по 01 августа 2024 годов\n",
        "* Рекомендации должны содержать данные по реализации товара в разрезе часа, чтобы сотрудник успел выложить и приготовить необходимое количество\n",
        "* Основные метрики оценки - RMSE, MSE, визуализация графиков остатков, расчетная оценка точности прогноза\n",
        "\n"
      ],
      "metadata": {
        "id": "78WGdHAVb1_q"
      }
    },
    {
      "cell_type": "markdown",
      "source": [
        "## Импорт библиотек, установка констант"
      ],
      "metadata": {
        "id": "6u0uFGhRk8Md"
      }
    },
    {
      "cell_type": "code",
      "source": [
        "import pandas as pd\n",
        "import numpy as np\n",
        "\n",
        "\n",
        "import matplotlib.pyplot as plt\n",
        "import seaborn as sns\n",
        "\n",
        "\n",
        "from sklearn.model_selection import train_test_split, GridSearchCV\n",
        "from sklearn.preprocessing import StandardScaler, OneHotEncoder\n",
        "from sklearn.metrics import mean_squared_error, mean_absolute_error, mean_absolute_percentage_error\n",
        "\n",
        "\n",
        "\n",
        "from sklearn.linear_model import ElasticNet\n",
        "from sklearn.ensemble import RandomForestRegressor\n",
        "from sklearn.ensemble import GradientBoostingRegressor\n",
        "\n"
      ],
      "metadata": {
        "id": "7-xHjmFI8wNn"
      },
      "execution_count": 1,
      "outputs": []
    },
    {
      "cell_type": "markdown",
      "source": [
        "## Загрузка данных"
      ],
      "metadata": {
        "id": "rwD-3gZVlaJ4"
      }
    },
    {
      "cell_type": "code",
      "source": [
        "from google.colab import drive\n",
        "drive.mount('/content/drive')"
      ],
      "metadata": {
        "colab": {
          "base_uri": "https://localhost:8080/"
        },
        "id": "EyrwJ3aKvssK",
        "outputId": "9a92980a-30ba-40b3-92bb-0e9ced16cbea"
      },
      "execution_count": 2,
      "outputs": [
        {
          "output_type": "stream",
          "name": "stdout",
          "text": [
            "Drive already mounted at /content/drive; to attempt to forcibly remount, call drive.mount(\"/content/drive\", force_remount=True).\n"
          ]
        }
      ]
    },
    {
      "cell_type": "code",
      "source": [
        "fact_csv = '/content/drive/MyDrive/data_fact.csv'\n",
        "fuel_csv = '/content/drive/MyDrive/data_fuel.csv'\n",
        "competitors_csv = '/content/drive/MyDrive/competitors.csv'"
      ],
      "metadata": {
        "id": "pZ9plBnTvRXD"
      },
      "execution_count": 3,
      "outputs": []
    },
    {
      "cell_type": "code",
      "source": [
        "df_fact = pd.read_csv(fact_csv)                                              # факт продажи товаров\n",
        "\n",
        "df_fuel = pd.read_csv(fuel_csv)                                              # факт трафика (чеки топливо)\n",
        "\n",
        "df_competitor = pd.read_csv(competitors_csv, sep=';',encoding='utf-8')       # справочник АЗС по наличию конкурентов и ценовому сегменту АЗС"
      ],
      "metadata": {
        "id": "rtgzUP-V81Dm"
      },
      "execution_count": 4,
      "outputs": []
    },
    {
      "cell_type": "code",
      "source": [
        "# приводим к единому формату времени\n",
        "df_fact['date_trunc'] = pd.to_datetime(df_fact['date_trunc'], format='ISO8601')\n",
        "df_fuel['dt'] = pd.to_datetime(df_fuel['dt'], format='ISO8601')"
      ],
      "metadata": {
        "id": "kHI-58HHZlQy"
      },
      "execution_count": 5,
      "outputs": []
    },
    {
      "cell_type": "markdown",
      "source": [
        "Создаем справочник дат, чтобы привести итоговый DataFrame к единому временному пространству в разрезе часов, соединив продажи товара и движение трафика"
      ],
      "metadata": {
        "id": "4Er9PTIRmHV9"
      }
    },
    {
      "cell_type": "code",
      "source": [
        "# создаем справочник дат\n",
        "from datetime import datetime, timedelta\n",
        "\n",
        "start_date = datetime.strptime('2023-07-01 00:00:00', '%Y-%m-%d %H:%M:%S')\n",
        "end_date = datetime.strptime('2024-08-01 00:00:00', '%Y-%m-%d %H:%M:%S')\n",
        "daterange = [(start_date + timedelta(hours=x)).strftime('%Y-%m-%d %H:%M:%S') for x in range(0, (end_date-start_date).days  * 24)]\n",
        "dictonary_date = pd.DataFrame(daterange, columns=['dt'])\n",
        "dictonary_date['dt'] = pd.to_datetime(dictonary_date['dt'], format='ISO8601')"
      ],
      "metadata": {
        "id": "J7D-6E92XYH8"
      },
      "execution_count": 6,
      "outputs": []
    },
    {
      "cell_type": "code",
      "source": [
        "calendar_fuel = pd.merge(dictonary_date, df_fuel, how='inner', right_on = ['dt'], left_on = ['dt'])"
      ],
      "metadata": {
        "id": "hyoH7aJNxQ-d"
      },
      "execution_count": 7,
      "outputs": []
    },
    {
      "cell_type": "code",
      "source": [
        "calendar_fuel['dt'] = pd.to_datetime(calendar_fuel['dt'], format='ISO8601')"
      ],
      "metadata": {
        "id": "L4c-LckIx2Vl"
      },
      "execution_count": 8,
      "outputs": []
    },
    {
      "cell_type": "code",
      "source": [
        "calendar_fact = pd.merge(df_fact, calendar_fuel, how='outer', right_on = ['dt', 'md5'], left_on = ['date_trunc','md5'])"
      ],
      "metadata": {
        "id": "aFSR4ghf2Eua"
      },
      "execution_count": 9,
      "outputs": []
    },
    {
      "cell_type": "markdown",
      "source": [
        "Добавляем признаки для АЗС из Справочника"
      ],
      "metadata": {
        "id": "aMyMMwKTmr1f"
      }
    },
    {
      "cell_type": "code",
      "source": [
        "df = pd.merge(calendar_fact, df_competitor, how='left', right_on = ['md5'], left_on = ['md5'])"
      ],
      "metadata": {
        "id": "mF6ucDuTG4Ph"
      },
      "execution_count": 10,
      "outputs": []
    },
    {
      "cell_type": "code",
      "source": [
        "df.head(3)"
      ],
      "metadata": {
        "colab": {
          "base_uri": "https://localhost:8080/",
          "height": 424
        },
        "id": "lGrRfjT9qcZd",
        "outputId": "d8b0fb71-5c4d-41ad-fe3b-0047ac5571e6"
      },
      "execution_count": 11,
      "outputs": [
        {
          "output_type": "execute_result",
          "data": {
            "text/plain": [
              "  account_date  day_of_week          date_trunc product_name_3  price  \\\n",
              "0   2023-07-12          3.0 2023-07-12 09:00:00       Хот-доги  275.0   \n",
              "1   2023-07-12          3.0 2023-07-12 09:00:00       Хот-доги  225.0   \n",
              "2   2023-07-12          3.0 2023-07-12 09:00:00       Хот-доги  235.0   \n",
              "\n",
              "   quantity  product_code_3                               md5  \\\n",
              "0       2.0         16073.0  e54bacb7737f0a180ed006df65f75e7b   \n",
              "1       2.0         16073.0  e54bacb7737f0a180ed006df65f75e7b   \n",
              "2       2.0         16073.0  e54bacb7737f0a180ed006df65f75e7b   \n",
              "\n",
              "        location_ksss     geo_name shop_area_range lot_area  \\\n",
              "0  федеральная трасса  Архангельск          60-120      0,8   \n",
              "1  федеральная трасса  Архангельск          60-120      0,8   \n",
              "2  федеральная трасса  Архангельск          60-120      0,8   \n",
              "\n",
              "                   dt  sum_fuel_day  sum_fuel_hour  \\\n",
              "0 2023-07-12 09:00:00         836.0           30.0   \n",
              "1 2023-07-12 09:00:00         836.0           30.0   \n",
              "2 2023-07-12 09:00:00         836.0           30.0   \n",
              "\n",
              "                                          competitor segment  \n",
              "0  Наличие АЗС С Кафе или отдельных объектов обще...     1,1  \n",
              "1  Наличие АЗС С Кафе или отдельных объектов обще...     1,1  \n",
              "2  Наличие АЗС С Кафе или отдельных объектов обще...     1,1  "
            ],
            "text/html": [
              "\n",
              "  <div id=\"df-c9dd9b15-fd25-4a60-8a0a-547577a90397\" class=\"colab-df-container\">\n",
              "    <div>\n",
              "<style scoped>\n",
              "    .dataframe tbody tr th:only-of-type {\n",
              "        vertical-align: middle;\n",
              "    }\n",
              "\n",
              "    .dataframe tbody tr th {\n",
              "        vertical-align: top;\n",
              "    }\n",
              "\n",
              "    .dataframe thead th {\n",
              "        text-align: right;\n",
              "    }\n",
              "</style>\n",
              "<table border=\"1\" class=\"dataframe\">\n",
              "  <thead>\n",
              "    <tr style=\"text-align: right;\">\n",
              "      <th></th>\n",
              "      <th>account_date</th>\n",
              "      <th>day_of_week</th>\n",
              "      <th>date_trunc</th>\n",
              "      <th>product_name_3</th>\n",
              "      <th>price</th>\n",
              "      <th>quantity</th>\n",
              "      <th>product_code_3</th>\n",
              "      <th>md5</th>\n",
              "      <th>location_ksss</th>\n",
              "      <th>geo_name</th>\n",
              "      <th>shop_area_range</th>\n",
              "      <th>lot_area</th>\n",
              "      <th>dt</th>\n",
              "      <th>sum_fuel_day</th>\n",
              "      <th>sum_fuel_hour</th>\n",
              "      <th>competitor</th>\n",
              "      <th>segment</th>\n",
              "    </tr>\n",
              "  </thead>\n",
              "  <tbody>\n",
              "    <tr>\n",
              "      <th>0</th>\n",
              "      <td>2023-07-12</td>\n",
              "      <td>3.0</td>\n",
              "      <td>2023-07-12 09:00:00</td>\n",
              "      <td>Хот-доги</td>\n",
              "      <td>275.0</td>\n",
              "      <td>2.0</td>\n",
              "      <td>16073.0</td>\n",
              "      <td>e54bacb7737f0a180ed006df65f75e7b</td>\n",
              "      <td>федеральная трасса</td>\n",
              "      <td>Архангельск</td>\n",
              "      <td>60-120</td>\n",
              "      <td>0,8</td>\n",
              "      <td>2023-07-12 09:00:00</td>\n",
              "      <td>836.0</td>\n",
              "      <td>30.0</td>\n",
              "      <td>Наличие АЗС С Кафе или отдельных объектов обще...</td>\n",
              "      <td>1,1</td>\n",
              "    </tr>\n",
              "    <tr>\n",
              "      <th>1</th>\n",
              "      <td>2023-07-12</td>\n",
              "      <td>3.0</td>\n",
              "      <td>2023-07-12 09:00:00</td>\n",
              "      <td>Хот-доги</td>\n",
              "      <td>225.0</td>\n",
              "      <td>2.0</td>\n",
              "      <td>16073.0</td>\n",
              "      <td>e54bacb7737f0a180ed006df65f75e7b</td>\n",
              "      <td>федеральная трасса</td>\n",
              "      <td>Архангельск</td>\n",
              "      <td>60-120</td>\n",
              "      <td>0,8</td>\n",
              "      <td>2023-07-12 09:00:00</td>\n",
              "      <td>836.0</td>\n",
              "      <td>30.0</td>\n",
              "      <td>Наличие АЗС С Кафе или отдельных объектов обще...</td>\n",
              "      <td>1,1</td>\n",
              "    </tr>\n",
              "    <tr>\n",
              "      <th>2</th>\n",
              "      <td>2023-07-12</td>\n",
              "      <td>3.0</td>\n",
              "      <td>2023-07-12 09:00:00</td>\n",
              "      <td>Хот-доги</td>\n",
              "      <td>235.0</td>\n",
              "      <td>2.0</td>\n",
              "      <td>16073.0</td>\n",
              "      <td>e54bacb7737f0a180ed006df65f75e7b</td>\n",
              "      <td>федеральная трасса</td>\n",
              "      <td>Архангельск</td>\n",
              "      <td>60-120</td>\n",
              "      <td>0,8</td>\n",
              "      <td>2023-07-12 09:00:00</td>\n",
              "      <td>836.0</td>\n",
              "      <td>30.0</td>\n",
              "      <td>Наличие АЗС С Кафе или отдельных объектов обще...</td>\n",
              "      <td>1,1</td>\n",
              "    </tr>\n",
              "  </tbody>\n",
              "</table>\n",
              "</div>\n",
              "    <div class=\"colab-df-buttons\">\n",
              "\n",
              "  <div class=\"colab-df-container\">\n",
              "    <button class=\"colab-df-convert\" onclick=\"convertToInteractive('df-c9dd9b15-fd25-4a60-8a0a-547577a90397')\"\n",
              "            title=\"Convert this dataframe to an interactive table.\"\n",
              "            style=\"display:none;\">\n",
              "\n",
              "  <svg xmlns=\"http://www.w3.org/2000/svg\" height=\"24px\" viewBox=\"0 -960 960 960\">\n",
              "    <path d=\"M120-120v-720h720v720H120Zm60-500h600v-160H180v160Zm220 220h160v-160H400v160Zm0 220h160v-160H400v160ZM180-400h160v-160H180v160Zm440 0h160v-160H620v160ZM180-180h160v-160H180v160Zm440 0h160v-160H620v160Z\"/>\n",
              "  </svg>\n",
              "    </button>\n",
              "\n",
              "  <style>\n",
              "    .colab-df-container {\n",
              "      display:flex;\n",
              "      gap: 12px;\n",
              "    }\n",
              "\n",
              "    .colab-df-convert {\n",
              "      background-color: #E8F0FE;\n",
              "      border: none;\n",
              "      border-radius: 50%;\n",
              "      cursor: pointer;\n",
              "      display: none;\n",
              "      fill: #1967D2;\n",
              "      height: 32px;\n",
              "      padding: 0 0 0 0;\n",
              "      width: 32px;\n",
              "    }\n",
              "\n",
              "    .colab-df-convert:hover {\n",
              "      background-color: #E2EBFA;\n",
              "      box-shadow: 0px 1px 2px rgba(60, 64, 67, 0.3), 0px 1px 3px 1px rgba(60, 64, 67, 0.15);\n",
              "      fill: #174EA6;\n",
              "    }\n",
              "\n",
              "    .colab-df-buttons div {\n",
              "      margin-bottom: 4px;\n",
              "    }\n",
              "\n",
              "    [theme=dark] .colab-df-convert {\n",
              "      background-color: #3B4455;\n",
              "      fill: #D2E3FC;\n",
              "    }\n",
              "\n",
              "    [theme=dark] .colab-df-convert:hover {\n",
              "      background-color: #434B5C;\n",
              "      box-shadow: 0px 1px 3px 1px rgba(0, 0, 0, 0.15);\n",
              "      filter: drop-shadow(0px 1px 2px rgba(0, 0, 0, 0.3));\n",
              "      fill: #FFFFFF;\n",
              "    }\n",
              "  </style>\n",
              "\n",
              "    <script>\n",
              "      const buttonEl =\n",
              "        document.querySelector('#df-c9dd9b15-fd25-4a60-8a0a-547577a90397 button.colab-df-convert');\n",
              "      buttonEl.style.display =\n",
              "        google.colab.kernel.accessAllowed ? 'block' : 'none';\n",
              "\n",
              "      async function convertToInteractive(key) {\n",
              "        const element = document.querySelector('#df-c9dd9b15-fd25-4a60-8a0a-547577a90397');\n",
              "        const dataTable =\n",
              "          await google.colab.kernel.invokeFunction('convertToInteractive',\n",
              "                                                    [key], {});\n",
              "        if (!dataTable) return;\n",
              "\n",
              "        const docLinkHtml = 'Like what you see? Visit the ' +\n",
              "          '<a target=\"_blank\" href=https://colab.research.google.com/notebooks/data_table.ipynb>data table notebook</a>'\n",
              "          + ' to learn more about interactive tables.';\n",
              "        element.innerHTML = '';\n",
              "        dataTable['output_type'] = 'display_data';\n",
              "        await google.colab.output.renderOutput(dataTable, element);\n",
              "        const docLink = document.createElement('div');\n",
              "        docLink.innerHTML = docLinkHtml;\n",
              "        element.appendChild(docLink);\n",
              "      }\n",
              "    </script>\n",
              "  </div>\n",
              "\n",
              "\n",
              "<div id=\"df-aa1de667-14e3-4900-a2ae-48f333b10f0f\">\n",
              "  <button class=\"colab-df-quickchart\" onclick=\"quickchart('df-aa1de667-14e3-4900-a2ae-48f333b10f0f')\"\n",
              "            title=\"Suggest charts\"\n",
              "            style=\"display:none;\">\n",
              "\n",
              "<svg xmlns=\"http://www.w3.org/2000/svg\" height=\"24px\"viewBox=\"0 0 24 24\"\n",
              "     width=\"24px\">\n",
              "    <g>\n",
              "        <path d=\"M19 3H5c-1.1 0-2 .9-2 2v14c0 1.1.9 2 2 2h14c1.1 0 2-.9 2-2V5c0-1.1-.9-2-2-2zM9 17H7v-7h2v7zm4 0h-2V7h2v10zm4 0h-2v-4h2v4z\"/>\n",
              "    </g>\n",
              "</svg>\n",
              "  </button>\n",
              "\n",
              "<style>\n",
              "  .colab-df-quickchart {\n",
              "      --bg-color: #E8F0FE;\n",
              "      --fill-color: #1967D2;\n",
              "      --hover-bg-color: #E2EBFA;\n",
              "      --hover-fill-color: #174EA6;\n",
              "      --disabled-fill-color: #AAA;\n",
              "      --disabled-bg-color: #DDD;\n",
              "  }\n",
              "\n",
              "  [theme=dark] .colab-df-quickchart {\n",
              "      --bg-color: #3B4455;\n",
              "      --fill-color: #D2E3FC;\n",
              "      --hover-bg-color: #434B5C;\n",
              "      --hover-fill-color: #FFFFFF;\n",
              "      --disabled-bg-color: #3B4455;\n",
              "      --disabled-fill-color: #666;\n",
              "  }\n",
              "\n",
              "  .colab-df-quickchart {\n",
              "    background-color: var(--bg-color);\n",
              "    border: none;\n",
              "    border-radius: 50%;\n",
              "    cursor: pointer;\n",
              "    display: none;\n",
              "    fill: var(--fill-color);\n",
              "    height: 32px;\n",
              "    padding: 0;\n",
              "    width: 32px;\n",
              "  }\n",
              "\n",
              "  .colab-df-quickchart:hover {\n",
              "    background-color: var(--hover-bg-color);\n",
              "    box-shadow: 0 1px 2px rgba(60, 64, 67, 0.3), 0 1px 3px 1px rgba(60, 64, 67, 0.15);\n",
              "    fill: var(--button-hover-fill-color);\n",
              "  }\n",
              "\n",
              "  .colab-df-quickchart-complete:disabled,\n",
              "  .colab-df-quickchart-complete:disabled:hover {\n",
              "    background-color: var(--disabled-bg-color);\n",
              "    fill: var(--disabled-fill-color);\n",
              "    box-shadow: none;\n",
              "  }\n",
              "\n",
              "  .colab-df-spinner {\n",
              "    border: 2px solid var(--fill-color);\n",
              "    border-color: transparent;\n",
              "    border-bottom-color: var(--fill-color);\n",
              "    animation:\n",
              "      spin 1s steps(1) infinite;\n",
              "  }\n",
              "\n",
              "  @keyframes spin {\n",
              "    0% {\n",
              "      border-color: transparent;\n",
              "      border-bottom-color: var(--fill-color);\n",
              "      border-left-color: var(--fill-color);\n",
              "    }\n",
              "    20% {\n",
              "      border-color: transparent;\n",
              "      border-left-color: var(--fill-color);\n",
              "      border-top-color: var(--fill-color);\n",
              "    }\n",
              "    30% {\n",
              "      border-color: transparent;\n",
              "      border-left-color: var(--fill-color);\n",
              "      border-top-color: var(--fill-color);\n",
              "      border-right-color: var(--fill-color);\n",
              "    }\n",
              "    40% {\n",
              "      border-color: transparent;\n",
              "      border-right-color: var(--fill-color);\n",
              "      border-top-color: var(--fill-color);\n",
              "    }\n",
              "    60% {\n",
              "      border-color: transparent;\n",
              "      border-right-color: var(--fill-color);\n",
              "    }\n",
              "    80% {\n",
              "      border-color: transparent;\n",
              "      border-right-color: var(--fill-color);\n",
              "      border-bottom-color: var(--fill-color);\n",
              "    }\n",
              "    90% {\n",
              "      border-color: transparent;\n",
              "      border-bottom-color: var(--fill-color);\n",
              "    }\n",
              "  }\n",
              "</style>\n",
              "\n",
              "  <script>\n",
              "    async function quickchart(key) {\n",
              "      const quickchartButtonEl =\n",
              "        document.querySelector('#' + key + ' button');\n",
              "      quickchartButtonEl.disabled = true;  // To prevent multiple clicks.\n",
              "      quickchartButtonEl.classList.add('colab-df-spinner');\n",
              "      try {\n",
              "        const charts = await google.colab.kernel.invokeFunction(\n",
              "            'suggestCharts', [key], {});\n",
              "      } catch (error) {\n",
              "        console.error('Error during call to suggestCharts:', error);\n",
              "      }\n",
              "      quickchartButtonEl.classList.remove('colab-df-spinner');\n",
              "      quickchartButtonEl.classList.add('colab-df-quickchart-complete');\n",
              "    }\n",
              "    (() => {\n",
              "      let quickchartButtonEl =\n",
              "        document.querySelector('#df-aa1de667-14e3-4900-a2ae-48f333b10f0f button');\n",
              "      quickchartButtonEl.style.display =\n",
              "        google.colab.kernel.accessAllowed ? 'block' : 'none';\n",
              "    })();\n",
              "  </script>\n",
              "</div>\n",
              "    </div>\n",
              "  </div>\n"
            ],
            "application/vnd.google.colaboratory.intrinsic+json": {
              "type": "dataframe",
              "variable_name": "df"
            }
          },
          "metadata": {},
          "execution_count": 11
        }
      ]
    },
    {
      "cell_type": "code",
      "source": [
        "df.shape"
      ],
      "metadata": {
        "colab": {
          "base_uri": "https://localhost:8080/"
        },
        "id": "vqPNeB8fh7-w",
        "outputId": "00b86f4e-8631-4028-8030-b24bf72a1012"
      },
      "execution_count": 12,
      "outputs": [
        {
          "output_type": "execute_result",
          "data": {
            "text/plain": [
              "(465893, 17)"
            ]
          },
          "metadata": {},
          "execution_count": 12
        }
      ]
    },
    {
      "cell_type": "markdown",
      "source": [
        "Создадим копию dt, в который добавим потом предсказания, сформируем csv файл и на основании него предоставим BI-отчет с выводами."
      ],
      "metadata": {
        "id": "OKyECsRf_GRd"
      }
    },
    {
      "cell_type": "code",
      "source": [
        "# df1 = df.copy()"
      ],
      "metadata": {
        "id": "43JQlskq_G2u"
      },
      "execution_count": 11,
      "outputs": []
    },
    {
      "cell_type": "markdown",
      "source": [
        "Описание полей данных:\n",
        "\n",
        "\n",
        "*   account_date - дата\n",
        "*   day_of_week - номер дня недели\n",
        "*   date_trunc - дата со временем\n",
        "*   product_name_3 - наименование категории\n",
        "*   price - цена товара за единицу, руб.\n",
        "*   quantity - количество проданных товаров, шт.\n",
        "*   product_code_3 - ID категории\n",
        "*   md5 - ID АЗС\n",
        "*   location_ksss -  расположение АЗС относительно трасс/города\n",
        "*   geo_name - географическое расположение АЗС\n",
        "*   shop_area_range - площадь торгового зала\n",
        "*   lot_area - координаты\n",
        "*   dt - дата продажи с указанием времени\n",
        "*   sum_fuel_day - количество топливных чеков на АЗС в рамках дня\n",
        "*   sum_fuel_hour - количество топливных чеков на АЗС в рамках дня и часа\n",
        "*   competitor - наличие одного из трех конкурентов (Вкусно и Точка, БК, Ростикс)\n",
        "*   segment - ценовой семент АЗС"
      ],
      "metadata": {
        "id": "RFs3Ky5klWF_"
      }
    },
    {
      "cell_type": "markdown",
      "source": [
        "# Предварительная обработка данных"
      ],
      "metadata": {
        "id": "EjNYl8uRaXau"
      }
    },
    {
      "cell_type": "markdown",
      "source": [
        "## Работа с отсутствующими данными"
      ],
      "metadata": {
        "id": "xQnMYS-4MFRF"
      }
    },
    {
      "cell_type": "code",
      "source": [
        "df.info()"
      ],
      "metadata": {
        "colab": {
          "base_uri": "https://localhost:8080/"
        },
        "id": "eVdu7Fzfu51V",
        "outputId": "a79b68d6-91fa-4e02-885e-ae04a10918f0"
      },
      "execution_count": 15,
      "outputs": [
        {
          "output_type": "stream",
          "name": "stdout",
          "text": [
            "<class 'pandas.core.frame.DataFrame'>\n",
            "RangeIndex: 465893 entries, 0 to 465892\n",
            "Data columns (total 17 columns):\n",
            " #   Column           Non-Null Count   Dtype         \n",
            "---  ------           --------------   -----         \n",
            " 0   account_date     232013 non-null  object        \n",
            " 1   day_of_week      232013 non-null  float64       \n",
            " 2   date_trunc       232013 non-null  datetime64[ns]\n",
            " 3   product_name_3   232013 non-null  object        \n",
            " 4   price            232013 non-null  float64       \n",
            " 5   quantity         232013 non-null  float64       \n",
            " 6   product_code_3   232013 non-null  float64       \n",
            " 7   md5              465893 non-null  object        \n",
            " 8   location_ksss    232013 non-null  object        \n",
            " 9   geo_name         232013 non-null  object        \n",
            " 10  shop_area_range  232013 non-null  object        \n",
            " 11  lot_area         232013 non-null  object        \n",
            " 12  dt               464693 non-null  datetime64[ns]\n",
            " 13  sum_fuel_day     464693 non-null  float64       \n",
            " 14  sum_fuel_hour    464693 non-null  float64       \n",
            " 15  competitor       465893 non-null  object        \n",
            " 16  segment          465893 non-null  object        \n",
            "dtypes: datetime64[ns](2), float64(6), object(9)\n",
            "memory usage: 60.4+ MB\n"
          ]
        }
      ]
    },
    {
      "cell_type": "code",
      "source": [
        "df.isnull().sum().sort_values()"
      ],
      "metadata": {
        "colab": {
          "base_uri": "https://localhost:8080/",
          "height": 617
        },
        "id": "gAXPyx_hyK20",
        "outputId": "83f50761-2dc3-4fc9-e512-87b755b2346b"
      },
      "execution_count": 16,
      "outputs": [
        {
          "output_type": "execute_result",
          "data": {
            "text/plain": [
              "segment                 0\n",
              "md5                     0\n",
              "competitor              0\n",
              "sum_fuel_hour        1200\n",
              "sum_fuel_day         1200\n",
              "dt                   1200\n",
              "lot_area           233880\n",
              "shop_area_range    233880\n",
              "geo_name           233880\n",
              "account_date       233880\n",
              "quantity           233880\n",
              "price              233880\n",
              "product_name_3     233880\n",
              "date_trunc         233880\n",
              "day_of_week        233880\n",
              "product_code_3     233880\n",
              "location_ksss      233880\n",
              "dtype: int64"
            ],
            "text/html": [
              "<div>\n",
              "<style scoped>\n",
              "    .dataframe tbody tr th:only-of-type {\n",
              "        vertical-align: middle;\n",
              "    }\n",
              "\n",
              "    .dataframe tbody tr th {\n",
              "        vertical-align: top;\n",
              "    }\n",
              "\n",
              "    .dataframe thead th {\n",
              "        text-align: right;\n",
              "    }\n",
              "</style>\n",
              "<table border=\"1\" class=\"dataframe\">\n",
              "  <thead>\n",
              "    <tr style=\"text-align: right;\">\n",
              "      <th></th>\n",
              "      <th>0</th>\n",
              "    </tr>\n",
              "  </thead>\n",
              "  <tbody>\n",
              "    <tr>\n",
              "      <th>segment</th>\n",
              "      <td>0</td>\n",
              "    </tr>\n",
              "    <tr>\n",
              "      <th>md5</th>\n",
              "      <td>0</td>\n",
              "    </tr>\n",
              "    <tr>\n",
              "      <th>competitor</th>\n",
              "      <td>0</td>\n",
              "    </tr>\n",
              "    <tr>\n",
              "      <th>sum_fuel_hour</th>\n",
              "      <td>1200</td>\n",
              "    </tr>\n",
              "    <tr>\n",
              "      <th>sum_fuel_day</th>\n",
              "      <td>1200</td>\n",
              "    </tr>\n",
              "    <tr>\n",
              "      <th>dt</th>\n",
              "      <td>1200</td>\n",
              "    </tr>\n",
              "    <tr>\n",
              "      <th>lot_area</th>\n",
              "      <td>233880</td>\n",
              "    </tr>\n",
              "    <tr>\n",
              "      <th>shop_area_range</th>\n",
              "      <td>233880</td>\n",
              "    </tr>\n",
              "    <tr>\n",
              "      <th>geo_name</th>\n",
              "      <td>233880</td>\n",
              "    </tr>\n",
              "    <tr>\n",
              "      <th>account_date</th>\n",
              "      <td>233880</td>\n",
              "    </tr>\n",
              "    <tr>\n",
              "      <th>quantity</th>\n",
              "      <td>233880</td>\n",
              "    </tr>\n",
              "    <tr>\n",
              "      <th>price</th>\n",
              "      <td>233880</td>\n",
              "    </tr>\n",
              "    <tr>\n",
              "      <th>product_name_3</th>\n",
              "      <td>233880</td>\n",
              "    </tr>\n",
              "    <tr>\n",
              "      <th>date_trunc</th>\n",
              "      <td>233880</td>\n",
              "    </tr>\n",
              "    <tr>\n",
              "      <th>day_of_week</th>\n",
              "      <td>233880</td>\n",
              "    </tr>\n",
              "    <tr>\n",
              "      <th>product_code_3</th>\n",
              "      <td>233880</td>\n",
              "    </tr>\n",
              "    <tr>\n",
              "      <th>location_ksss</th>\n",
              "      <td>233880</td>\n",
              "    </tr>\n",
              "  </tbody>\n",
              "</table>\n",
              "</div><br><label><b>dtype:</b> int64</label>"
            ]
          },
          "metadata": {},
          "execution_count": 16
        }
      ]
    },
    {
      "cell_type": "markdown",
      "source": [
        "Из этой информации видим, что в признаках присутствует много пропусков, связанных с join outer фактов продажи товара (товар продается не каждый час) и трафиком (он более стабильный)"
      ],
      "metadata": {
        "id": "k7dcleBYxV9Q"
      }
    },
    {
      "cell_type": "code",
      "source": [
        "def percent_missing(df):\n",
        "    percent_nan = 100* df.isnull().sum() / len(df)\n",
        "    # percent_nan = percent_nan[percent_nan>0].sort_values()\n",
        "    return percent_nan.sort_values()\n",
        "percent_nan = percent_missing(df)\n",
        "percent_nan"
      ],
      "metadata": {
        "colab": {
          "base_uri": "https://localhost:8080/",
          "height": 617
        },
        "id": "9QxcqO1IMenk",
        "outputId": "4984c37a-a8e1-41e7-d103-3ea46925e119"
      },
      "execution_count": 17,
      "outputs": [
        {
          "output_type": "execute_result",
          "data": {
            "text/plain": [
              "segment             0.000000\n",
              "md5                 0.000000\n",
              "competitor          0.000000\n",
              "sum_fuel_hour       0.257570\n",
              "sum_fuel_day        0.257570\n",
              "dt                  0.257570\n",
              "lot_area           50.200368\n",
              "shop_area_range    50.200368\n",
              "geo_name           50.200368\n",
              "account_date       50.200368\n",
              "quantity           50.200368\n",
              "price              50.200368\n",
              "product_name_3     50.200368\n",
              "date_trunc         50.200368\n",
              "day_of_week        50.200368\n",
              "product_code_3     50.200368\n",
              "location_ksss      50.200368\n",
              "dtype: float64"
            ],
            "text/html": [
              "<div>\n",
              "<style scoped>\n",
              "    .dataframe tbody tr th:only-of-type {\n",
              "        vertical-align: middle;\n",
              "    }\n",
              "\n",
              "    .dataframe tbody tr th {\n",
              "        vertical-align: top;\n",
              "    }\n",
              "\n",
              "    .dataframe thead th {\n",
              "        text-align: right;\n",
              "    }\n",
              "</style>\n",
              "<table border=\"1\" class=\"dataframe\">\n",
              "  <thead>\n",
              "    <tr style=\"text-align: right;\">\n",
              "      <th></th>\n",
              "      <th>0</th>\n",
              "    </tr>\n",
              "  </thead>\n",
              "  <tbody>\n",
              "    <tr>\n",
              "      <th>segment</th>\n",
              "      <td>0.000000</td>\n",
              "    </tr>\n",
              "    <tr>\n",
              "      <th>md5</th>\n",
              "      <td>0.000000</td>\n",
              "    </tr>\n",
              "    <tr>\n",
              "      <th>competitor</th>\n",
              "      <td>0.000000</td>\n",
              "    </tr>\n",
              "    <tr>\n",
              "      <th>sum_fuel_hour</th>\n",
              "      <td>0.257570</td>\n",
              "    </tr>\n",
              "    <tr>\n",
              "      <th>sum_fuel_day</th>\n",
              "      <td>0.257570</td>\n",
              "    </tr>\n",
              "    <tr>\n",
              "      <th>dt</th>\n",
              "      <td>0.257570</td>\n",
              "    </tr>\n",
              "    <tr>\n",
              "      <th>lot_area</th>\n",
              "      <td>50.200368</td>\n",
              "    </tr>\n",
              "    <tr>\n",
              "      <th>shop_area_range</th>\n",
              "      <td>50.200368</td>\n",
              "    </tr>\n",
              "    <tr>\n",
              "      <th>geo_name</th>\n",
              "      <td>50.200368</td>\n",
              "    </tr>\n",
              "    <tr>\n",
              "      <th>account_date</th>\n",
              "      <td>50.200368</td>\n",
              "    </tr>\n",
              "    <tr>\n",
              "      <th>quantity</th>\n",
              "      <td>50.200368</td>\n",
              "    </tr>\n",
              "    <tr>\n",
              "      <th>price</th>\n",
              "      <td>50.200368</td>\n",
              "    </tr>\n",
              "    <tr>\n",
              "      <th>product_name_3</th>\n",
              "      <td>50.200368</td>\n",
              "    </tr>\n",
              "    <tr>\n",
              "      <th>date_trunc</th>\n",
              "      <td>50.200368</td>\n",
              "    </tr>\n",
              "    <tr>\n",
              "      <th>day_of_week</th>\n",
              "      <td>50.200368</td>\n",
              "    </tr>\n",
              "    <tr>\n",
              "      <th>product_code_3</th>\n",
              "      <td>50.200368</td>\n",
              "    </tr>\n",
              "    <tr>\n",
              "      <th>location_ksss</th>\n",
              "      <td>50.200368</td>\n",
              "    </tr>\n",
              "  </tbody>\n",
              "</table>\n",
              "</div><br><label><b>dtype:</b> float64</label>"
            ]
          },
          "metadata": {},
          "execution_count": 17
        }
      ]
    },
    {
      "cell_type": "code",
      "source": [
        "sns.barplot(x=percent_nan.index,y=percent_nan, palette = 'YlOrBr')  #cubehelix  coolwarm  vlag    YlOrBr\n",
        "plt.title('Процент пропусков, %')\n",
        "plt.xlabel(\"Колонки\")\n",
        "plt.ylabel(\"% пропусков\")\n",
        "plt.xticks(rotation=90)\n",
        "plt.show();"
      ],
      "metadata": {
        "colab": {
          "base_uri": "https://localhost:8080/",
          "height": 669
        },
        "id": "F-q3CW0wRLMd",
        "outputId": "729f374e-598d-4dd4-c1c5-9b7c64ddf655"
      },
      "execution_count": 18,
      "outputs": [
        {
          "output_type": "stream",
          "name": "stderr",
          "text": [
            "<ipython-input-18-0cfd09bb0d83>:1: FutureWarning: \n",
            "\n",
            "Passing `palette` without assigning `hue` is deprecated and will be removed in v0.14.0. Assign the `x` variable to `hue` and set `legend=False` for the same effect.\n",
            "\n",
            "  sns.barplot(x=percent_nan.index,y=percent_nan, palette = 'YlOrBr')  #cubehelix  coolwarm  vlag    YlOrBr\n"
          ]
        },
        {
          "output_type": "display_data",
          "data": {
            "text/plain": [
              "<Figure size 640x480 with 1 Axes>"
            ],
            "image/png": "[encoded data removed]"
          },
          "metadata": {}
        }
      ]
    },
    {
      "cell_type": "markdown",
      "source": [
        "Сначала поработаем со справочной информацией, ее заполним на основании данных по md5"
      ],
      "metadata": {
        "id": "uQQUrvJiTnUS"
      }
    },
    {
      "cell_type": "code",
      "source": [
        "lst = ['location_ksss', 'geo_name', 'shop_area_range', 'lot_area']\n",
        "for i in lst:\n",
        "    df.loc[df[i].isna(), i] = \\\n",
        "    df.loc[df[i].isna(), 'md5'].map(df.groupby('md5')[i].first())"
      ],
      "metadata": {
        "id": "XUgAQmJMVDRY"
      },
      "execution_count": 12,
      "outputs": []
    },
    {
      "cell_type": "markdown",
      "source": [
        "Пустые значения в столбце dt заменим значениями из date_trunc"
      ],
      "metadata": {
        "id": "2t0w0RmZoTTv"
      }
    },
    {
      "cell_type": "code",
      "source": [
        "df['dt'] = df['dt']. fillna(df['date_trunc'])"
      ],
      "metadata": {
        "id": "hlZ5La4Toglv"
      },
      "execution_count": 13,
      "outputs": []
    },
    {
      "cell_type": "markdown",
      "source": [
        "Так как мы анализируем одну категорию \"Хот-доги\", то NaN в столбце product_name_3 заменим на \"Хот-доги\", в столбце product_code_3 - на 16073"
      ],
      "metadata": {
        "id": "JzbpjGVnorQQ"
      }
    },
    {
      "cell_type": "code",
      "source": [
        "df['product_name_3'] = df['product_name_3']. fillna('Хот-доги')\n",
        "df['product_code_3'] = df['product_code_3']. fillna('16073')"
      ],
      "metadata": {
        "id": "CUijCC2HpIHA"
      },
      "execution_count": 14,
      "outputs": []
    },
    {
      "cell_type": "markdown",
      "source": [
        "Nan в столбцах quantity, price, sum_fuel_day, sum_fuel_hour говорит о том, что не было продаж либо товара либо отсутствовал трафик. Заменим на 0."
      ],
      "metadata": {
        "id": "-wvGrILeqVth"
      }
    },
    {
      "cell_type": "code",
      "source": [
        "df[['quantity', 'price', 'sum_fuel_day', 'sum_fuel_hour']] = df[['quantity', 'price', 'sum_fuel_day', 'sum_fuel_hour']]. fillna(0)"
      ],
      "metadata": {
        "id": "sW8pKkIjqbPx"
      },
      "execution_count": 15,
      "outputs": []
    },
    {
      "cell_type": "markdown",
      "source": [
        "Столбцы date_trunc, account_date, product_code_3 можно удалить, они дублируют информацию. Столбец day_of_week добавим позже, когда будем формировать новые признаки"
      ],
      "metadata": {
        "id": "t150SxAKsHXE"
      }
    },
    {
      "cell_type": "code",
      "source": [
        "df.drop(['date_trunc', 'day_of_week', 'account_date', 'product_code_3'], axis= 1 , inplace= True )"
      ],
      "metadata": {
        "id": "S-OMW1MVsh7j"
      },
      "execution_count": 16,
      "outputs": []
    },
    {
      "cell_type": "code",
      "source": [
        "# df.isnull().sum().sort_values()"
      ],
      "metadata": {
        "id": "-R_605IEVoA3"
      },
      "execution_count": 26,
      "outputs": []
    },
    {
      "cell_type": "markdown",
      "source": [
        "Отсутствующих значений нет."
      ],
      "metadata": {
        "id": "MqHZHdFesWUT"
      }
    },
    {
      "cell_type": "markdown",
      "source": [
        "## Обзор типов данных"
      ],
      "metadata": {
        "id": "4ZQaXjLdUCzo"
      }
    },
    {
      "cell_type": "code",
      "source": [
        "df.dtypes"
      ],
      "metadata": {
        "colab": {
          "base_uri": "https://localhost:8080/",
          "height": 492
        },
        "id": "baXLpGKXRJKu",
        "outputId": "de8b2fc7-c6dc-48fe-8009-8b26b6120f03"
      },
      "execution_count": 24,
      "outputs": [
        {
          "output_type": "execute_result",
          "data": {
            "text/plain": [
              "product_name_3             object\n",
              "price                     float64\n",
              "quantity                  float64\n",
              "md5                        object\n",
              "location_ksss              object\n",
              "geo_name                   object\n",
              "shop_area_range            object\n",
              "lot_area                   object\n",
              "dt                 datetime64[ns]\n",
              "sum_fuel_day              float64\n",
              "sum_fuel_hour             float64\n",
              "competitor                 object\n",
              "segment                    object\n",
              "dtype: object"
            ],
            "text/html": [
              "<div>\n",
              "<style scoped>\n",
              "    .dataframe tbody tr th:only-of-type {\n",
              "        vertical-align: middle;\n",
              "    }\n",
              "\n",
              "    .dataframe tbody tr th {\n",
              "        vertical-align: top;\n",
              "    }\n",
              "\n",
              "    .dataframe thead th {\n",
              "        text-align: right;\n",
              "    }\n",
              "</style>\n",
              "<table border=\"1\" class=\"dataframe\">\n",
              "  <thead>\n",
              "    <tr style=\"text-align: right;\">\n",
              "      <th></th>\n",
              "      <th>0</th>\n",
              "    </tr>\n",
              "  </thead>\n",
              "  <tbody>\n",
              "    <tr>\n",
              "      <th>product_name_3</th>\n",
              "      <td>object</td>\n",
              "    </tr>\n",
              "    <tr>\n",
              "      <th>price</th>\n",
              "      <td>float64</td>\n",
              "    </tr>\n",
              "    <tr>\n",
              "      <th>quantity</th>\n",
              "      <td>float64</td>\n",
              "    </tr>\n",
              "    <tr>\n",
              "      <th>md5</th>\n",
              "      <td>object</td>\n",
              "    </tr>\n",
              "    <tr>\n",
              "      <th>location_ksss</th>\n",
              "      <td>object</td>\n",
              "    </tr>\n",
              "    <tr>\n",
              "      <th>geo_name</th>\n",
              "      <td>object</td>\n",
              "    </tr>\n",
              "    <tr>\n",
              "      <th>shop_area_range</th>\n",
              "      <td>object</td>\n",
              "    </tr>\n",
              "    <tr>\n",
              "      <th>lot_area</th>\n",
              "      <td>object</td>\n",
              "    </tr>\n",
              "    <tr>\n",
              "      <th>dt</th>\n",
              "      <td>datetime64[ns]</td>\n",
              "    </tr>\n",
              "    <tr>\n",
              "      <th>sum_fuel_day</th>\n",
              "      <td>float64</td>\n",
              "    </tr>\n",
              "    <tr>\n",
              "      <th>sum_fuel_hour</th>\n",
              "      <td>float64</td>\n",
              "    </tr>\n",
              "    <tr>\n",
              "      <th>competitor</th>\n",
              "      <td>object</td>\n",
              "    </tr>\n",
              "    <tr>\n",
              "      <th>segment</th>\n",
              "      <td>object</td>\n",
              "    </tr>\n",
              "  </tbody>\n",
              "</table>\n",
              "</div><br><label><b>dtype:</b> object</label>"
            ]
          },
          "metadata": {},
          "execution_count": 24
        }
      ]
    },
    {
      "cell_type": "markdown",
      "source": [
        "По нескольким столбцам, которые относятся к дискретным признакам, заданы некорректные типы данных. Необходимо преобразовать их."
      ],
      "metadata": {
        "id": "THcbEsXuspIs"
      }
    },
    {
      "cell_type": "code",
      "source": [
        "def convert_type(col):\n",
        "    \"\"\"\n",
        "    Преобразует числовое значение строки в число с плавающей точкой:\n",
        "     - удаляет запятые\n",
        "     - преобразует в число с плавающей точкой\n",
        "    \"\"\"\n",
        "    new_col = col.replace(',', '')\n",
        "    return float(new_col)"
      ],
      "metadata": {
        "id": "eQY9Ymfmto9l"
      },
      "execution_count": 17,
      "outputs": []
    },
    {
      "cell_type": "code",
      "source": [
        "df['lot_area'] = df['lot_area'].apply(convert_type)\n",
        "df['segment'] = df['segment'].apply(convert_type)"
      ],
      "metadata": {
        "id": "44sONQ1ct_KU"
      },
      "execution_count": 18,
      "outputs": []
    },
    {
      "cell_type": "markdown",
      "source": [
        "# Анализ выбросов"
      ],
      "metadata": {
        "id": "Tm2AmgXvzEmj"
      }
    },
    {
      "cell_type": "code",
      "source": [
        "df.describe(include = ['object']).transpose()"
      ],
      "metadata": {
        "colab": {
          "base_uri": "https://localhost:8080/",
          "height": 237
        },
        "id": "TO9BNRRQ0NCr",
        "outputId": "047d6ada-af97-4d4d-bc33-218e423ac300"
      },
      "execution_count": 25,
      "outputs": [
        {
          "output_type": "execute_result",
          "data": {
            "text/plain": [
              "                  count unique  \\\n",
              "product_name_3   465893      1   \n",
              "md5              465893     45   \n",
              "location_ksss    465893      4   \n",
              "geo_name         465893     19   \n",
              "shop_area_range  465893      3   \n",
              "competitor       465893      6   \n",
              "\n",
              "                                                               top    freq  \n",
              "product_name_3                                            Хот-доги  465893  \n",
              "md5                               c1b70d965ca504aa751ddb62ad69c63f   15363  \n",
              "location_ksss                                   федеральная трасса  183398  \n",
              "geo_name                                           Санкт-Петербург  163732  \n",
              "shop_area_range                                                <60  239031  \n",
              "competitor       Наличие АЗС С Кафе или отдельных объектов обще...  126799  "
            ],
            "text/html": [
              "\n",
              "  <div id=\"df-e3df85ab-0dbe-4381-af70-9045ea41b14c\" class=\"colab-df-container\">\n",
              "    <div>\n",
              "<style scoped>\n",
              "    .dataframe tbody tr th:only-of-type {\n",
              "        vertical-align: middle;\n",
              "    }\n",
              "\n",
              "    .dataframe tbody tr th {\n",
              "        vertical-align: top;\n",
              "    }\n",
              "\n",
              "    .dataframe thead th {\n",
              "        text-align: right;\n",
              "    }\n",
              "</style>\n",
              "<table border=\"1\" class=\"dataframe\">\n",
              "  <thead>\n",
              "    <tr style=\"text-align: right;\">\n",
              "      <th></th>\n",
              "      <th>count</th>\n",
              "      <th>unique</th>\n",
              "      <th>top</th>\n",
              "      <th>freq</th>\n",
              "    </tr>\n",
              "  </thead>\n",
              "  <tbody>\n",
              "    <tr>\n",
              "      <th>product_name_3</th>\n",
              "      <td>465893</td>\n",
              "      <td>1</td>\n",
              "      <td>Хот-доги</td>\n",
              "      <td>465893</td>\n",
              "    </tr>\n",
              "    <tr>\n",
              "      <th>md5</th>\n",
              "      <td>465893</td>\n",
              "      <td>45</td>\n",
              "      <td>c1b70d965ca504aa751ddb62ad69c63f</td>\n",
              "      <td>15363</td>\n",
              "    </tr>\n",
              "    <tr>\n",
              "      <th>location_ksss</th>\n",
              "      <td>465893</td>\n",
              "      <td>4</td>\n",
              "      <td>федеральная трасса</td>\n",
              "      <td>183398</td>\n",
              "    </tr>\n",
              "    <tr>\n",
              "      <th>geo_name</th>\n",
              "      <td>465893</td>\n",
              "      <td>19</td>\n",
              "      <td>Санкт-Петербург</td>\n",
              "      <td>163732</td>\n",
              "    </tr>\n",
              "    <tr>\n",
              "      <th>shop_area_range</th>\n",
              "      <td>465893</td>\n",
              "      <td>3</td>\n",
              "      <td>&lt;60</td>\n",
              "      <td>239031</td>\n",
              "    </tr>\n",
              "    <tr>\n",
              "      <th>competitor</th>\n",
              "      <td>465893</td>\n",
              "      <td>6</td>\n",
              "      <td>Наличие АЗС С Кафе или отдельных объектов обще...</td>\n",
              "      <td>126799</td>\n",
              "    </tr>\n",
              "  </tbody>\n",
              "</table>\n",
              "</div>\n",
              "    <div class=\"colab-df-buttons\">\n",
              "\n",
              "  <div class=\"colab-df-container\">\n",
              "    <button class=\"colab-df-convert\" onclick=\"convertToInteractive('df-e3df85ab-0dbe-4381-af70-9045ea41b14c')\"\n",
              "            title=\"Convert this dataframe to an interactive table.\"\n",
              "            style=\"display:none;\">\n",
              "\n",
              "  <svg xmlns=\"http://www.w3.org/2000/svg\" height=\"24px\" viewBox=\"0 -960 960 960\">\n",
              "    <path d=\"M120-120v-720h720v720H120Zm60-500h600v-160H180v160Zm220 220h160v-160H400v160Zm0 220h160v-160H400v160ZM180-400h160v-160H180v160Zm440 0h160v-160H620v160ZM180-180h160v-160H180v160Zm440 0h160v-160H620v160Z\"/>\n",
              "  </svg>\n",
              "    </button>\n",
              "\n",
              "  <style>\n",
              "    .colab-df-container {\n",
              "      display:flex;\n",
              "      gap: 12px;\n",
              "    }\n",
              "\n",
              "    .colab-df-convert {\n",
              "      background-color: #E8F0FE;\n",
              "      border: none;\n",
              "      border-radius: 50%;\n",
              "      cursor: pointer;\n",
              "      display: none;\n",
              "      fill: #1967D2;\n",
              "      height: 32px;\n",
              "      padding: 0 0 0 0;\n",
              "      width: 32px;\n",
              "    }\n",
              "\n",
              "    .colab-df-convert:hover {\n",
              "      background-color: #E2EBFA;\n",
              "      box-shadow: 0px 1px 2px rgba(60, 64, 67, 0.3), 0px 1px 3px 1px rgba(60, 64, 67, 0.15);\n",
              "      fill: #174EA6;\n",
              "    }\n",
              "\n",
              "    .colab-df-buttons div {\n",
              "      margin-bottom: 4px;\n",
              "    }\n",
              "\n",
              "    [theme=dark] .colab-df-convert {\n",
              "      background-color: #3B4455;\n",
              "      fill: #D2E3FC;\n",
              "    }\n",
              "\n",
              "    [theme=dark] .colab-df-convert:hover {\n",
              "      background-color: #434B5C;\n",
              "      box-shadow: 0px 1px 3px 1px rgba(0, 0, 0, 0.15);\n",
              "      filter: drop-shadow(0px 1px 2px rgba(0, 0, 0, 0.3));\n",
              "      fill: #FFFFFF;\n",
              "    }\n",
              "  </style>\n",
              "\n",
              "    <script>\n",
              "      const buttonEl =\n",
              "        document.querySelector('#df-e3df85ab-0dbe-4381-af70-9045ea41b14c button.colab-df-convert');\n",
              "      buttonEl.style.display =\n",
              "        google.colab.kernel.accessAllowed ? 'block' : 'none';\n",
              "\n",
              "      async function convertToInteractive(key) {\n",
              "        const element = document.querySelector('#df-e3df85ab-0dbe-4381-af70-9045ea41b14c');\n",
              "        const dataTable =\n",
              "          await google.colab.kernel.invokeFunction('convertToInteractive',\n",
              "                                                    [key], {});\n",
              "        if (!dataTable) return;\n",
              "\n",
              "        const docLinkHtml = 'Like what you see? Visit the ' +\n",
              "          '<a target=\"_blank\" href=https://colab.research.google.com/notebooks/data_table.ipynb>data table notebook</a>'\n",
              "          + ' to learn more about interactive tables.';\n",
              "        element.innerHTML = '';\n",
              "        dataTable['output_type'] = 'display_data';\n",
              "        await google.colab.output.renderOutput(dataTable, element);\n",
              "        const docLink = document.createElement('div');\n",
              "        docLink.innerHTML = docLinkHtml;\n",
              "        element.appendChild(docLink);\n",
              "      }\n",
              "    </script>\n",
              "  </div>\n",
              "\n",
              "\n",
              "<div id=\"df-ba09cf70-b26b-4c5e-8055-982c03de9b2f\">\n",
              "  <button class=\"colab-df-quickchart\" onclick=\"quickchart('df-ba09cf70-b26b-4c5e-8055-982c03de9b2f')\"\n",
              "            title=\"Suggest charts\"\n",
              "            style=\"display:none;\">\n",
              "\n",
              "<svg xmlns=\"http://www.w3.org/2000/svg\" height=\"24px\"viewBox=\"0 0 24 24\"\n",
              "     width=\"24px\">\n",
              "    <g>\n",
              "        <path d=\"M19 3H5c-1.1 0-2 .9-2 2v14c0 1.1.9 2 2 2h14c1.1 0 2-.9 2-2V5c0-1.1-.9-2-2-2zM9 17H7v-7h2v7zm4 0h-2V7h2v10zm4 0h-2v-4h2v4z\"/>\n",
              "    </g>\n",
              "</svg>\n",
              "  </button>\n",
              "\n",
              "<style>\n",
              "  .colab-df-quickchart {\n",
              "      --bg-color: #E8F0FE;\n",
              "      --fill-color: #1967D2;\n",
              "      --hover-bg-color: #E2EBFA;\n",
              "      --hover-fill-color: #174EA6;\n",
              "      --disabled-fill-color: #AAA;\n",
              "      --disabled-bg-color: #DDD;\n",
              "  }\n",
              "\n",
              "  [theme=dark] .colab-df-quickchart {\n",
              "      --bg-color: #3B4455;\n",
              "      --fill-color: #D2E3FC;\n",
              "      --hover-bg-color: #434B5C;\n",
              "      --hover-fill-color: #FFFFFF;\n",
              "      --disabled-bg-color: #3B4455;\n",
              "      --disabled-fill-color: #666;\n",
              "  }\n",
              "\n",
              "  .colab-df-quickchart {\n",
              "    background-color: var(--bg-color);\n",
              "    border: none;\n",
              "    border-radius: 50%;\n",
              "    cursor: pointer;\n",
              "    display: none;\n",
              "    fill: var(--fill-color);\n",
              "    height: 32px;\n",
              "    padding: 0;\n",
              "    width: 32px;\n",
              "  }\n",
              "\n",
              "  .colab-df-quickchart:hover {\n",
              "    background-color: var(--hover-bg-color);\n",
              "    box-shadow: 0 1px 2px rgba(60, 64, 67, 0.3), 0 1px 3px 1px rgba(60, 64, 67, 0.15);\n",
              "    fill: var(--button-hover-fill-color);\n",
              "  }\n",
              "\n",
              "  .colab-df-quickchart-complete:disabled,\n",
              "  .colab-df-quickchart-complete:disabled:hover {\n",
              "    background-color: var(--disabled-bg-color);\n",
              "    fill: var(--disabled-fill-color);\n",
              "    box-shadow: none;\n",
              "  }\n",
              "\n",
              "  .colab-df-spinner {\n",
              "    border: 2px solid var(--fill-color);\n",
              "    border-color: transparent;\n",
              "    border-bottom-color: var(--fill-color);\n",
              "    animation:\n",
              "      spin 1s steps(1) infinite;\n",
              "  }\n",
              "\n",
              "  @keyframes spin {\n",
              "    0% {\n",
              "      border-color: transparent;\n",
              "      border-bottom-color: var(--fill-color);\n",
              "      border-left-color: var(--fill-color);\n",
              "    }\n",
              "    20% {\n",
              "      border-color: transparent;\n",
              "      border-left-color: var(--fill-color);\n",
              "      border-top-color: var(--fill-color);\n",
              "    }\n",
              "    30% {\n",
              "      border-color: transparent;\n",
              "      border-left-color: var(--fill-color);\n",
              "      border-top-color: var(--fill-color);\n",
              "      border-right-color: var(--fill-color);\n",
              "    }\n",
              "    40% {\n",
              "      border-color: transparent;\n",
              "      border-right-color: var(--fill-color);\n",
              "      border-top-color: var(--fill-color);\n",
              "    }\n",
              "    60% {\n",
              "      border-color: transparent;\n",
              "      border-right-color: var(--fill-color);\n",
              "    }\n",
              "    80% {\n",
              "      border-color: transparent;\n",
              "      border-right-color: var(--fill-color);\n",
              "      border-bottom-color: var(--fill-color);\n",
              "    }\n",
              "    90% {\n",
              "      border-color: transparent;\n",
              "      border-bottom-color: var(--fill-color);\n",
              "    }\n",
              "  }\n",
              "</style>\n",
              "\n",
              "  <script>\n",
              "    async function quickchart(key) {\n",
              "      const quickchartButtonEl =\n",
              "        document.querySelector('#' + key + ' button');\n",
              "      quickchartButtonEl.disabled = true;  // To prevent multiple clicks.\n",
              "      quickchartButtonEl.classList.add('colab-df-spinner');\n",
              "      try {\n",
              "        const charts = await google.colab.kernel.invokeFunction(\n",
              "            'suggestCharts', [key], {});\n",
              "      } catch (error) {\n",
              "        console.error('Error during call to suggestCharts:', error);\n",
              "      }\n",
              "      quickchartButtonEl.classList.remove('colab-df-spinner');\n",
              "      quickchartButtonEl.classList.add('colab-df-quickchart-complete');\n",
              "    }\n",
              "    (() => {\n",
              "      let quickchartButtonEl =\n",
              "        document.querySelector('#df-ba09cf70-b26b-4c5e-8055-982c03de9b2f button');\n",
              "      quickchartButtonEl.style.display =\n",
              "        google.colab.kernel.accessAllowed ? 'block' : 'none';\n",
              "    })();\n",
              "  </script>\n",
              "</div>\n",
              "    </div>\n",
              "  </div>\n"
            ],
            "application/vnd.google.colaboratory.intrinsic+json": {
              "type": "dataframe",
              "summary": "{\n  \"name\": \"df\",\n  \"rows\": 6,\n  \"fields\": [\n    {\n      \"column\": \"count\",\n      \"properties\": {\n        \"dtype\": \"date\",\n        \"min\": \"465893\",\n        \"max\": \"465893\",\n        \"num_unique_values\": 1,\n        \"samples\": [\n          \"465893\"\n        ],\n        \"semantic_type\": \"\",\n        \"description\": \"\"\n      }\n    },\n    {\n      \"column\": \"unique\",\n      \"properties\": {\n        \"dtype\": \"date\",\n        \"min\": 1,\n        \"max\": 45,\n        \"num_unique_values\": 6,\n        \"samples\": [\n          1\n        ],\n        \"semantic_type\": \"\",\n        \"description\": \"\"\n      }\n    },\n    {\n      \"column\": \"top\",\n      \"properties\": {\n        \"dtype\": \"string\",\n        \"num_unique_values\": 6,\n        \"samples\": [\n          \"\\u0425\\u043e\\u0442-\\u0434\\u043e\\u0433\\u0438\"\n        ],\n        \"semantic_type\": \"\",\n        \"description\": \"\"\n      }\n    },\n    {\n      \"column\": \"freq\",\n      \"properties\": {\n        \"dtype\": \"date\",\n        \"min\": \"15363\",\n        \"max\": \"465893\",\n        \"num_unique_values\": 6,\n        \"samples\": [\n          \"465893\"\n        ],\n        \"semantic_type\": \"\",\n        \"description\": \"\"\n      }\n    }\n  ]\n}"
            }
          },
          "metadata": {},
          "execution_count": 25
        }
      ]
    },
    {
      "cell_type": "code",
      "source": [
        "df.describe().transpose()"
      ],
      "metadata": {
        "colab": {
          "base_uri": "https://localhost:8080/",
          "height": 269
        },
        "id": "mJLKttZ-yuDx",
        "outputId": "8c9c63f0-1ea7-4985-d51c-d353bf6d2526"
      },
      "execution_count": 26,
      "outputs": [
        {
          "output_type": "execute_result",
          "data": {
            "text/plain": [
              "                  count                           mean                  min  \\\n",
              "price          465893.0                     130.975175                  0.0   \n",
              "quantity       465893.0                       1.019316                  0.0   \n",
              "lot_area       465893.0                     2712.79678                  1.0   \n",
              "dt               465893  2024-01-14 23:18:44.052947712  2023-07-01 00:00:00   \n",
              "sum_fuel_day   465893.0                     470.354326                  0.0   \n",
              "sum_fuel_hour  465893.0                      21.202143                  0.0   \n",
              "segment        465893.0                        5.21705                  1.0   \n",
              "\n",
              "                               25%                  50%                  75%  \\\n",
              "price                          0.0                  0.0                259.0   \n",
              "quantity                       0.0                  0.0                  1.0   \n",
              "lot_area                      53.0               1666.0               4936.0   \n",
              "dt             2023-10-05 07:00:00  2024-01-13 00:00:00  2024-04-26 17:00:00   \n",
              "sum_fuel_day                 284.0                436.0                620.0   \n",
              "sum_fuel_hour                  7.0                 17.0                 31.0   \n",
              "segment                        1.0                  1.0                 11.0   \n",
              "\n",
              "                               max          std  \n",
              "price                       1219.0   136.770844  \n",
              "quantity                      42.0     1.655044  \n",
              "lot_area                   10769.0  3130.827229  \n",
              "dt             2024-07-31 23:00:00          NaN  \n",
              "sum_fuel_day                1415.0   234.481384  \n",
              "sum_fuel_hour                107.0    17.205831  \n",
              "segment                       11.0     4.612387  "
            ],
            "text/html": [
              "\n",
              "  <div id=\"df-1b7eef80-d7f0-496f-9a7a-d0c818ff47b4\" class=\"colab-df-container\">\n",
              "    <div>\n",
              "<style scoped>\n",
              "    .dataframe tbody tr th:only-of-type {\n",
              "        vertical-align: middle;\n",
              "    }\n",
              "\n",
              "    .dataframe tbody tr th {\n",
              "        vertical-align: top;\n",
              "    }\n",
              "\n",
              "    .dataframe thead th {\n",
              "        text-align: right;\n",
              "    }\n",
              "</style>\n",
              "<table border=\"1\" class=\"dataframe\">\n",
              "  <thead>\n",
              "    <tr style=\"text-align: right;\">\n",
              "      <th></th>\n",
              "      <th>count</th>\n",
              "      <th>mean</th>\n",
              "      <th>min</th>\n",
              "      <th>25%</th>\n",
              "      <th>50%</th>\n",
              "      <th>75%</th>\n",
              "      <th>max</th>\n",
              "      <th>std</th>\n",
              "    </tr>\n",
              "  </thead>\n",
              "  <tbody>\n",
              "    <tr>\n",
              "      <th>price</th>\n",
              "      <td>465893.0</td>\n",
              "      <td>130.975175</td>\n",
              "      <td>0.0</td>\n",
              "      <td>0.0</td>\n",
              "      <td>0.0</td>\n",
              "      <td>259.0</td>\n",
              "      <td>1219.0</td>\n",
              "      <td>136.770844</td>\n",
              "    </tr>\n",
              "    <tr>\n",
              "      <th>quantity</th>\n",
              "      <td>465893.0</td>\n",
              "      <td>1.019316</td>\n",
              "      <td>0.0</td>\n",
              "      <td>0.0</td>\n",
              "      <td>0.0</td>\n",
              "      <td>1.0</td>\n",
              "      <td>42.0</td>\n",
              "      <td>1.655044</td>\n",
              "    </tr>\n",
              "    <tr>\n",
              "      <th>lot_area</th>\n",
              "      <td>465893.0</td>\n",
              "      <td>2712.79678</td>\n",
              "      <td>1.0</td>\n",
              "      <td>53.0</td>\n",
              "      <td>1666.0</td>\n",
              "      <td>4936.0</td>\n",
              "      <td>10769.0</td>\n",
              "      <td>3130.827229</td>\n",
              "    </tr>\n",
              "    <tr>\n",
              "      <th>dt</th>\n",
              "      <td>465893</td>\n",
              "      <td>2024-01-14 23:18:44.052947712</td>\n",
              "      <td>2023-07-01 00:00:00</td>\n",
              "      <td>2023-10-05 07:00:00</td>\n",
              "      <td>2024-01-13 00:00:00</td>\n",
              "      <td>2024-04-26 17:00:00</td>\n",
              "      <td>2024-07-31 23:00:00</td>\n",
              "      <td>NaN</td>\n",
              "    </tr>\n",
              "    <tr>\n",
              "      <th>sum_fuel_day</th>\n",
              "      <td>465893.0</td>\n",
              "      <td>470.354326</td>\n",
              "      <td>0.0</td>\n",
              "      <td>284.0</td>\n",
              "      <td>436.0</td>\n",
              "      <td>620.0</td>\n",
              "      <td>1415.0</td>\n",
              "      <td>234.481384</td>\n",
              "    </tr>\n",
              "    <tr>\n",
              "      <th>sum_fuel_hour</th>\n",
              "      <td>465893.0</td>\n",
              "      <td>21.202143</td>\n",
              "      <td>0.0</td>\n",
              "      <td>7.0</td>\n",
              "      <td>17.0</td>\n",
              "      <td>31.0</td>\n",
              "      <td>107.0</td>\n",
              "      <td>17.205831</td>\n",
              "    </tr>\n",
              "    <tr>\n",
              "      <th>segment</th>\n",
              "      <td>465893.0</td>\n",
              "      <td>5.21705</td>\n",
              "      <td>1.0</td>\n",
              "      <td>1.0</td>\n",
              "      <td>1.0</td>\n",
              "      <td>11.0</td>\n",
              "      <td>11.0</td>\n",
              "      <td>4.612387</td>\n",
              "    </tr>\n",
              "  </tbody>\n",
              "</table>\n",
              "</div>\n",
              "    <div class=\"colab-df-buttons\">\n",
              "\n",
              "  <div class=\"colab-df-container\">\n",
              "    <button class=\"colab-df-convert\" onclick=\"convertToInteractive('df-1b7eef80-d7f0-496f-9a7a-d0c818ff47b4')\"\n",
              "            title=\"Convert this dataframe to an interactive table.\"\n",
              "            style=\"display:none;\">\n",
              "\n",
              "  <svg xmlns=\"http://www.w3.org/2000/svg\" height=\"24px\" viewBox=\"0 -960 960 960\">\n",
              "    <path d=\"M120-120v-720h720v720H120Zm60-500h600v-160H180v160Zm220 220h160v-160H400v160Zm0 220h160v-160H400v160ZM180-400h160v-160H180v160Zm440 0h160v-160H620v160ZM180-180h160v-160H180v160Zm440 0h160v-160H620v160Z\"/>\n",
              "  </svg>\n",
              "    </button>\n",
              "\n",
              "  <style>\n",
              "    .colab-df-container {\n",
              "      display:flex;\n",
              "      gap: 12px;\n",
              "    }\n",
              "\n",
              "    .colab-df-convert {\n",
              "      background-color: #E8F0FE;\n",
              "      border: none;\n",
              "      border-radius: 50%;\n",
              "      cursor: pointer;\n",
              "      display: none;\n",
              "      fill: #1967D2;\n",
              "      height: 32px;\n",
              "      padding: 0 0 0 0;\n",
              "      width: 32px;\n",
              "    }\n",
              "\n",
              "    .colab-df-convert:hover {\n",
              "      background-color: #E2EBFA;\n",
              "      box-shadow: 0px 1px 2px rgba(60, 64, 67, 0.3), 0px 1px 3px 1px rgba(60, 64, 67, 0.15);\n",
              "      fill: #174EA6;\n",
              "    }\n",
              "\n",
              "    .colab-df-buttons div {\n",
              "      margin-bottom: 4px;\n",
              "    }\n",
              "\n",
              "    [theme=dark] .colab-df-convert {\n",
              "      background-color: #3B4455;\n",
              "      fill: #D2E3FC;\n",
              "    }\n",
              "\n",
              "    [theme=dark] .colab-df-convert:hover {\n",
              "      background-color: #434B5C;\n",
              "      box-shadow: 0px 1px 3px 1px rgba(0, 0, 0, 0.15);\n",
              "      filter: drop-shadow(0px 1px 2px rgba(0, 0, 0, 0.3));\n",
              "      fill: #FFFFFF;\n",
              "    }\n",
              "  </style>\n",
              "\n",
              "    <script>\n",
              "      const buttonEl =\n",
              "        document.querySelector('#df-1b7eef80-d7f0-496f-9a7a-d0c818ff47b4 button.colab-df-convert');\n",
              "      buttonEl.style.display =\n",
              "        google.colab.kernel.accessAllowed ? 'block' : 'none';\n",
              "\n",
              "      async function convertToInteractive(key) {\n",
              "        const element = document.querySelector('#df-1b7eef80-d7f0-496f-9a7a-d0c818ff47b4');\n",
              "        const dataTable =\n",
              "          await google.colab.kernel.invokeFunction('convertToInteractive',\n",
              "                                                    [key], {});\n",
              "        if (!dataTable) return;\n",
              "\n",
              "        const docLinkHtml = 'Like what you see? Visit the ' +\n",
              "          '<a target=\"_blank\" href=https://colab.research.google.com/notebooks/data_table.ipynb>data table notebook</a>'\n",
              "          + ' to learn more about interactive tables.';\n",
              "        element.innerHTML = '';\n",
              "        dataTable['output_type'] = 'display_data';\n",
              "        await google.colab.output.renderOutput(dataTable, element);\n",
              "        const docLink = document.createElement('div');\n",
              "        docLink.innerHTML = docLinkHtml;\n",
              "        element.appendChild(docLink);\n",
              "      }\n",
              "    </script>\n",
              "  </div>\n",
              "\n",
              "\n",
              "<div id=\"df-3ac70c52-9f31-4f9f-82b8-23007df78910\">\n",
              "  <button class=\"colab-df-quickchart\" onclick=\"quickchart('df-3ac70c52-9f31-4f9f-82b8-23007df78910')\"\n",
              "            title=\"Suggest charts\"\n",
              "            style=\"display:none;\">\n",
              "\n",
              "<svg xmlns=\"http://www.w3.org/2000/svg\" height=\"24px\"viewBox=\"0 0 24 24\"\n",
              "     width=\"24px\">\n",
              "    <g>\n",
              "        <path d=\"M19 3H5c-1.1 0-2 .9-2 2v14c0 1.1.9 2 2 2h14c1.1 0 2-.9 2-2V5c0-1.1-.9-2-2-2zM9 17H7v-7h2v7zm4 0h-2V7h2v10zm4 0h-2v-4h2v4z\"/>\n",
              "    </g>\n",
              "</svg>\n",
              "  </button>\n",
              "\n",
              "<style>\n",
              "  .colab-df-quickchart {\n",
              "      --bg-color: #E8F0FE;\n",
              "      --fill-color: #1967D2;\n",
              "      --hover-bg-color: #E2EBFA;\n",
              "      --hover-fill-color: #174EA6;\n",
              "      --disabled-fill-color: #AAA;\n",
              "      --disabled-bg-color: #DDD;\n",
              "  }\n",
              "\n",
              "  [theme=dark] .colab-df-quickchart {\n",
              "      --bg-color: #3B4455;\n",
              "      --fill-color: #D2E3FC;\n",
              "      --hover-bg-color: #434B5C;\n",
              "      --hover-fill-color: #FFFFFF;\n",
              "      --disabled-bg-color: #3B4455;\n",
              "      --disabled-fill-color: #666;\n",
              "  }\n",
              "\n",
              "  .colab-df-quickchart {\n",
              "    background-color: var(--bg-color);\n",
              "    border: none;\n",
              "    border-radius: 50%;\n",
              "    cursor: pointer;\n",
              "    display: none;\n",
              "    fill: var(--fill-color);\n",
              "    height: 32px;\n",
              "    padding: 0;\n",
              "    width: 32px;\n",
              "  }\n",
              "\n",
              "  .colab-df-quickchart:hover {\n",
              "    background-color: var(--hover-bg-color);\n",
              "    box-shadow: 0 1px 2px rgba(60, 64, 67, 0.3), 0 1px 3px 1px rgba(60, 64, 67, 0.15);\n",
              "    fill: var(--button-hover-fill-color);\n",
              "  }\n",
              "\n",
              "  .colab-df-quickchart-complete:disabled,\n",
              "  .colab-df-quickchart-complete:disabled:hover {\n",
              "    background-color: var(--disabled-bg-color);\n",
              "    fill: var(--disabled-fill-color);\n",
              "    box-shadow: none;\n",
              "  }\n",
              "\n",
              "  .colab-df-spinner {\n",
              "    border: 2px solid var(--fill-color);\n",
              "    border-color: transparent;\n",
              "    border-bottom-color: var(--fill-color);\n",
              "    animation:\n",
              "      spin 1s steps(1) infinite;\n",
              "  }\n",
              "\n",
              "  @keyframes spin {\n",
              "    0% {\n",
              "      border-color: transparent;\n",
              "      border-bottom-color: var(--fill-color);\n",
              "      border-left-color: var(--fill-color);\n",
              "    }\n",
              "    20% {\n",
              "      border-color: transparent;\n",
              "      border-left-color: var(--fill-color);\n",
              "      border-top-color: var(--fill-color);\n",
              "    }\n",
              "    30% {\n",
              "      border-color: transparent;\n",
              "      border-left-color: var(--fill-color);\n",
              "      border-top-color: var(--fill-color);\n",
              "      border-right-color: var(--fill-color);\n",
              "    }\n",
              "    40% {\n",
              "      border-color: transparent;\n",
              "      border-right-color: var(--fill-color);\n",
              "      border-top-color: var(--fill-color);\n",
              "    }\n",
              "    60% {\n",
              "      border-color: transparent;\n",
              "      border-right-color: var(--fill-color);\n",
              "    }\n",
              "    80% {\n",
              "      border-color: transparent;\n",
              "      border-right-color: var(--fill-color);\n",
              "      border-bottom-color: var(--fill-color);\n",
              "    }\n",
              "    90% {\n",
              "      border-color: transparent;\n",
              "      border-bottom-color: var(--fill-color);\n",
              "    }\n",
              "  }\n",
              "</style>\n",
              "\n",
              "  <script>\n",
              "    async function quickchart(key) {\n",
              "      const quickchartButtonEl =\n",
              "        document.querySelector('#' + key + ' button');\n",
              "      quickchartButtonEl.disabled = true;  // To prevent multiple clicks.\n",
              "      quickchartButtonEl.classList.add('colab-df-spinner');\n",
              "      try {\n",
              "        const charts = await google.colab.kernel.invokeFunction(\n",
              "            'suggestCharts', [key], {});\n",
              "      } catch (error) {\n",
              "        console.error('Error during call to suggestCharts:', error);\n",
              "      }\n",
              "      quickchartButtonEl.classList.remove('colab-df-spinner');\n",
              "      quickchartButtonEl.classList.add('colab-df-quickchart-complete');\n",
              "    }\n",
              "    (() => {\n",
              "      let quickchartButtonEl =\n",
              "        document.querySelector('#df-3ac70c52-9f31-4f9f-82b8-23007df78910 button');\n",
              "      quickchartButtonEl.style.display =\n",
              "        google.colab.kernel.accessAllowed ? 'block' : 'none';\n",
              "    })();\n",
              "  </script>\n",
              "</div>\n",
              "    </div>\n",
              "  </div>\n"
            ],
            "application/vnd.google.colaboratory.intrinsic+json": {
              "type": "dataframe",
              "summary": "{\n  \"name\": \"df\",\n  \"rows\": 7,\n  \"fields\": [\n    {\n      \"column\": \"count\",\n      \"properties\": {\n        \"dtype\": \"date\",\n        \"min\": 465893.0,\n        \"max\": 465893.0,\n        \"num_unique_values\": 1,\n        \"samples\": [\n          465893.0\n        ],\n        \"semantic_type\": \"\",\n        \"description\": \"\"\n      }\n    },\n    {\n      \"column\": \"mean\",\n      \"properties\": {\n        \"dtype\": \"date\",\n        \"min\": \"1970-01-01 00:00:00.000000001\",\n        \"max\": \"2024-01-14 23:18:44.052947712\",\n        \"num_unique_values\": 7,\n        \"samples\": [\n          130.97517455724812\n        ],\n        \"semantic_type\": \"\",\n        \"description\": \"\"\n      }\n    },\n    {\n      \"column\": \"min\",\n      \"properties\": {\n        \"dtype\": \"date\",\n        \"min\": \"1970-01-01 00:00:00\",\n        \"max\": \"2023-07-01 00:00:00\",\n        \"num_unique_values\": 3,\n        \"samples\": [\n          0.0\n        ],\n        \"semantic_type\": \"\",\n        \"description\": \"\"\n      }\n    },\n    {\n      \"column\": \"25%\",\n      \"properties\": {\n        \"dtype\": \"date\",\n        \"min\": \"1970-01-01 00:00:00\",\n        \"max\": \"2023-10-05 07:00:00\",\n        \"num_unique_values\": 6,\n        \"samples\": [\n          0.0\n        ],\n        \"semantic_type\": \"\",\n        \"description\": \"\"\n      }\n    },\n    {\n      \"column\": \"50%\",\n      \"properties\": {\n        \"dtype\": \"date\",\n        \"min\": \"1970-01-01 00:00:00\",\n        \"max\": \"2024-01-13 00:00:00\",\n        \"num_unique_values\": 6,\n        \"samples\": [\n          0.0\n        ],\n        \"semantic_type\": \"\",\n        \"description\": \"\"\n      }\n    },\n    {\n      \"column\": \"75%\",\n      \"properties\": {\n        \"dtype\": \"date\",\n        \"min\": \"1970-01-01 00:00:00.000000001\",\n        \"max\": \"2024-04-26 17:00:00\",\n        \"num_unique_values\": 7,\n        \"samples\": [\n          259.0\n        ],\n        \"semantic_type\": \"\",\n        \"description\": \"\"\n      }\n    },\n    {\n      \"column\": \"max\",\n      \"properties\": {\n        \"dtype\": \"date\",\n        \"min\": \"1970-01-01 00:00:00.000000011\",\n        \"max\": \"2024-07-31 23:00:00\",\n        \"num_unique_values\": 7,\n        \"samples\": [\n          1219.0\n        ],\n        \"semantic_type\": \"\",\n        \"description\": \"\"\n      }\n    },\n    {\n      \"column\": \"std\",\n      \"properties\": {\n        \"dtype\": \"date\",\n        \"min\": 1.6550436694583779,\n        \"max\": 3130.827228852633,\n        \"num_unique_values\": 6,\n        \"samples\": [\n          136.7708437273075\n        ],\n        \"semantic_type\": \"\",\n        \"description\": \"\"\n      }\n    }\n  ]\n}"
            }
          },
          "metadata": {},
          "execution_count": 26
        }
      ]
    },
    {
      "cell_type": "markdown",
      "source": [
        "# Коррелляционный анализ"
      ],
      "metadata": {
        "id": "4S8F_q7GIhYL"
      }
    },
    {
      "cell_type": "code",
      "source": [
        "!pip install phik"
      ],
      "metadata": {
        "colab": {
          "base_uri": "https://localhost:8080/"
        },
        "id": "TRP7TgtLN40W",
        "outputId": "4b0c96dd-6154-461c-b99c-ff2d44b93bb4"
      },
      "execution_count": 27,
      "outputs": [
        {
          "output_type": "stream",
          "name": "stdout",
          "text": [
            "Requirement already satisfied: phik in /usr/local/lib/python3.10/dist-packages (0.12.4)\n",
            "Requirement already satisfied: numpy>=1.18.0 in /usr/local/lib/python3.10/dist-packages (from phik) (1.26.4)\n",
            "Requirement already satisfied: scipy>=1.5.2 in /usr/local/lib/python3.10/dist-packages (from phik) (1.13.1)\n",
            "Requirement already satisfied: pandas>=0.25.1 in /usr/local/lib/python3.10/dist-packages (from phik) (2.1.4)\n",
            "Requirement already satisfied: matplotlib>=2.2.3 in /usr/local/lib/python3.10/dist-packages (from phik) (3.7.1)\n",
            "Requirement already satisfied: joblib>=0.14.1 in /usr/local/lib/python3.10/dist-packages (from phik) (1.4.2)\n",
            "Requirement already satisfied: contourpy>=1.0.1 in /usr/local/lib/python3.10/dist-packages (from matplotlib>=2.2.3->phik) (1.3.0)\n",
            "Requirement already satisfied: cycler>=0.10 in /usr/local/lib/python3.10/dist-packages (from matplotlib>=2.2.3->phik) (0.12.1)\n",
            "Requirement already satisfied: fonttools>=4.22.0 in /usr/local/lib/python3.10/dist-packages (from matplotlib>=2.2.3->phik) (4.53.1)\n",
            "Requirement already satisfied: kiwisolver>=1.0.1 in /usr/local/lib/python3.10/dist-packages (from matplotlib>=2.2.3->phik) (1.4.5)\n",
            "Requirement already satisfied: packaging>=20.0 in /usr/local/lib/python3.10/dist-packages (from matplotlib>=2.2.3->phik) (24.1)\n",
            "Requirement already satisfied: pillow>=6.2.0 in /usr/local/lib/python3.10/dist-packages (from matplotlib>=2.2.3->phik) (9.4.0)\n",
            "Requirement already satisfied: pyparsing>=2.3.1 in /usr/local/lib/python3.10/dist-packages (from matplotlib>=2.2.3->phik) (3.1.4)\n",
            "Requirement already satisfied: python-dateutil>=2.7 in /usr/local/lib/python3.10/dist-packages (from matplotlib>=2.2.3->phik) (2.8.2)\n",
            "Requirement already satisfied: pytz>=2020.1 in /usr/local/lib/python3.10/dist-packages (from pandas>=0.25.1->phik) (2024.1)\n",
            "Requirement already satisfied: tzdata>=2022.1 in /usr/local/lib/python3.10/dist-packages (from pandas>=0.25.1->phik) (2024.1)\n",
            "Requirement already satisfied: six>=1.5 in /usr/local/lib/python3.10/dist-packages (from python-dateutil>=2.7->matplotlib>=2.2.3->phik) (1.16.0)\n"
          ]
        }
      ]
    },
    {
      "cell_type": "code",
      "source": [
        "import phik\n",
        "\n",
        "phik_corr = df.phik_matrix()"
      ],
      "metadata": {
        "colab": {
          "base_uri": "https://localhost:8080/"
        },
        "id": "Qf-j8fgxNrHF",
        "outputId": "2c73839b-f593-4183-868b-442ff84a3d42"
      },
      "execution_count": 28,
      "outputs": [
        {
          "output_type": "stream",
          "name": "stdout",
          "text": [
            "interval columns not set, guessing: ['price', 'quantity', 'lot_area', 'sum_fuel_day', 'sum_fuel_hour', 'segment']\n"
          ]
        },
        {
          "output_type": "stream",
          "name": "stderr",
          "text": [
            "/usr/local/lib/python3.10/dist-packages/phik/data_quality.py:59: UserWarning: The number of unique values of variable dt is large: 9528. Are you sure this is not an interval variable? Analysis for pairs of variables including dt can be slow.\n",
            "  warnings.warn(\n",
            "/usr/local/lib/python3.10/dist-packages/phik/data_quality.py:82: UserWarning: Not enough unique value for variable product_name_3 for analysis 1. Dropping this column\n",
            "  warnings.warn(\n"
          ]
        }
      ]
    },
    {
      "cell_type": "code",
      "source": [
        "plt.figure(figsize=(9, 8))\n",
        "sns.heatmap(phik_corr, annot=True, fmt=\".2f\", cmap=\"vlag\", cbar=True)   #vlag  coolwarm  YlOrBr\n",
        "plt.title(\"Correlation Matrix\")\n",
        "plt.show()"
      ],
      "metadata": {
        "colab": {
          "base_uri": "https://localhost:8080/",
          "height": 804
        },
        "id": "5Ddfp18DNwe-",
        "outputId": "56442291-dfc2-415e-f6ae-3d8fbfa89d53"
      },
      "execution_count": 29,
      "outputs": [
        {
          "output_type": "display_data",
          "data": {
            "text/plain": [
              "<Figure size 900x800 with 2 Axes>"
            ],
            "image/png": "[encoded data removed]"
          },
          "metadata": {}
        }
      ]
    },
    {
      "cell_type": "markdown",
      "source": [
        "Матрица выявила признаки, которые имеют между собой высокую зависимость. Для уменьшения мультиколлинеарности исключим часть и оставим те, что наиболее влияют на целевой признак - quantity:\n",
        "\n",
        "\n",
        "*   lot_area, geo_name (содержат дублирующую информацию)"
      ],
      "metadata": {
        "id": "Jz-GjS1nxhAX"
      }
    },
    {
      "cell_type": "code",
      "source": [
        "df.drop([ 'lot_area','geo_name'], axis= 1 , inplace= True )"
      ],
      "metadata": {
        "id": "CpwFGA9TxovX"
      },
      "execution_count": 19,
      "outputs": []
    },
    {
      "cell_type": "markdown",
      "source": [
        "# Работа с признаками"
      ],
      "metadata": {
        "id": "oZxtJI5Fx2Ms"
      }
    },
    {
      "cell_type": "markdown",
      "source": [
        "## Частичное удаление признаков"
      ],
      "metadata": {
        "id": "qk5-AvQBx6vG"
      }
    },
    {
      "cell_type": "markdown",
      "source": [
        "product_name_3 можно удалить, он содержит одну уникальную запись - \"Хот-доги\", в задаче итак указано, что мы оцениваем эту категорию"
      ],
      "metadata": {
        "id": "UsnRdS86x-5D"
      }
    },
    {
      "cell_type": "code",
      "source": [
        "df.drop(['product_name_3'], axis= 1 , inplace= True )"
      ],
      "metadata": {
        "id": "c_qcPDlpyARZ"
      },
      "execution_count": 20,
      "outputs": []
    },
    {
      "cell_type": "markdown",
      "source": [
        "## Feature engineering"
      ],
      "metadata": {
        "id": "FTSsd6pjyWtz"
      }
    },
    {
      "cell_type": "markdown",
      "source": [
        "Выделим на основании столбца dt новые признаки: год, номер месяца, день месяца, час дня день недели"
      ],
      "metadata": {
        "id": "6epEqez0yavG"
      }
    },
    {
      "cell_type": "code",
      "source": [
        "df['year'] = df.dt.dt.year\n",
        "df['month'] = df.dt.dt.month\n",
        "df['dayofmonth'] = df.dt.dt.day\n",
        "df['hour'] = df.dt.dt.hour\n",
        "df['dayofweek'] = df.dt.dt.dayofweek"
      ],
      "metadata": {
        "id": "idJX-YJrybkI"
      },
      "execution_count": 21,
      "outputs": []
    },
    {
      "cell_type": "code",
      "source": [
        "df.drop(['dt'], axis= 1 , inplace= True )"
      ],
      "metadata": {
        "id": "mvr8IHyKysu2"
      },
      "execution_count": 22,
      "outputs": []
    },
    {
      "cell_type": "markdown",
      "source": [
        "Посмотрим на распределение продаж в течении дня, месяца"
      ],
      "metadata": {
        "id": "EkfTAtmuQB_Q"
      }
    },
    {
      "cell_type": "code",
      "source": [
        "sales_day = df.groupby([\"dayofmonth\"]).quantity.sum().reset_index().set_index(\"dayofmonth\")"
      ],
      "metadata": {
        "id": "jpSS_douJBEf"
      },
      "execution_count": 23,
      "outputs": []
    },
    {
      "cell_type": "code",
      "source": [
        "sales_day.plot(kind='bar', stacked=True, cmap=\"rocket\", legend=False, figsize=(12, 4))  #vlag\n",
        "plt.title(\"Продажи по дням\")\n",
        "plt.xlabel(\"День месяца\")\n",
        "plt.ylabel(\"Количество\")\n",
        "plt.show();"
      ],
      "metadata": {
        "colab": {
          "base_uri": "https://localhost:8080/",
          "height": 414
        },
        "id": "vk_2erxZBB8D",
        "outputId": "c123d41b-f48f-4082-eaf1-2aa251c4a80e"
      },
      "execution_count": 35,
      "outputs": [
        {
          "output_type": "display_data",
          "data": {
            "text/plain": [
              "<Figure size 1200x400 with 1 Axes>"
            ],
            "image/png": "[encoded data removed]"
          },
          "metadata": {}
        }
      ]
    },
    {
      "cell_type": "markdown",
      "source": [
        "Продажи стабильны и не зависят от числа месяца. Наблюдаем небольшое снижение 31го числа, связанное с чередованием отсутствия этого дня в месяцах."
      ],
      "metadata": {
        "id": "TDNt_rDxQMXA"
      }
    },
    {
      "cell_type": "code",
      "source": [
        "sales_hour = df.groupby([\"hour\"]).quantity.sum().reset_index().set_index(\"hour\")   #\"year\", \"dayofmonth\",\n",
        "\n",
        "sales_hour.plot(kind='bar', stacked=True, cmap=\"vlag\", legend=False, figsize=(12, 4))  #vlag\n",
        "plt.title(\"Продажи по часам\")\n",
        "plt.xlabel(\"Час дня\")\n",
        "plt.ylabel(\"Количество\")\n",
        "plt.show();"
      ],
      "metadata": {
        "colab": {
          "base_uri": "https://localhost:8080/",
          "height": 414
        },
        "id": "7dypVaIsSNWu",
        "outputId": "dfd332fa-a644-42b4-a2ca-21a3a0ca9e32"
      },
      "execution_count": 36,
      "outputs": [
        {
          "output_type": "display_data",
          "data": {
            "text/plain": [
              "<Figure size 1200x400 with 1 Axes>"
            ],
            "image/png": "[encoded data removed]"
          },
          "metadata": {}
        }
      ]
    },
    {
      "cell_type": "markdown",
      "source": [
        "А вот продажи в течении дня, напротив, цикличны, пик наступает днем и снижение после полуночи до 5 утра."
      ],
      "metadata": {
        "id": "8ax-j4ybTN4d"
      }
    },
    {
      "cell_type": "markdown",
      "source": [
        "Создадим столбец с конверсией товара в рамках дня"
      ],
      "metadata": {
        "id": "bWw-10Opyxjm"
      }
    },
    {
      "cell_type": "code",
      "source": [
        "mean_conv = round(df['quantity'].mean()/df['sum_fuel_day'].mean(),4)\n",
        "\n",
        "try:\n",
        "     df['conv_day'] = round(df['quantity']/df['sum_fuel_day'], 4)\n",
        "except ZeroDivisionError:\n",
        "     df['conv_day'] = mean_conv\n",
        "\n",
        "value = mean_conv\n",
        "df['conv_day'] = df['conv_day'].replace(np.inf, value)"
      ],
      "metadata": {
        "id": "YDCzAuEQnLCD"
      },
      "execution_count": 24,
      "outputs": []
    },
    {
      "cell_type": "markdown",
      "source": [
        "Посмотрим на столбец competitor. Он содержит 6 уникальных значений, из которых можно выделить бинарный признак \"Есть конкурент/Нет конкурента\" - столбец flag_compet"
      ],
      "metadata": {
        "id": "tK0sW3Ox230Z"
      }
    },
    {
      "cell_type": "code",
      "source": [
        "df.value_counts('competitor')"
      ],
      "metadata": {
        "colab": {
          "base_uri": "https://localhost:8080/",
          "height": 303
        },
        "id": "FV377T0W2SeC",
        "outputId": "de70f871-ed87-40f5-a039-b70ad1323920"
      },
      "execution_count": 28,
      "outputs": [
        {
          "output_type": "execute_result",
          "data": {
            "text/plain": [
              "competitor\n",
              "Наличие АЗС С Кафе или отдельных объектов общественного питания в радиусе 30км.                  126799\n",
              "Наличие (Вкусно и точка, Бургер Кинг, KFC/Ростикс) с drive thru в радиусе 30км                   111150\n",
              "Наличие объектов общественного питания в шаговой доступности от АЗС                              102120\n",
              "Наличие (Вкусно и точка, Бургер Кинг, KFC/Ростикс) с drive thru в шаговой доступности от АЗС      57531\n",
              "Нет конкурентов                                                                                   57222\n",
              "Наличие АЗС только с магазином  или отдельных стоячего магазина в радиусе 30км.                   11071\n",
              "Name: count, dtype: int64"
            ],
            "text/html": [
              "<div>\n",
              "<style scoped>\n",
              "    .dataframe tbody tr th:only-of-type {\n",
              "        vertical-align: middle;\n",
              "    }\n",
              "\n",
              "    .dataframe tbody tr th {\n",
              "        vertical-align: top;\n",
              "    }\n",
              "\n",
              "    .dataframe thead th {\n",
              "        text-align: right;\n",
              "    }\n",
              "</style>\n",
              "<table border=\"1\" class=\"dataframe\">\n",
              "  <thead>\n",
              "    <tr style=\"text-align: right;\">\n",
              "      <th></th>\n",
              "      <th>count</th>\n",
              "    </tr>\n",
              "    <tr>\n",
              "      <th>competitor</th>\n",
              "      <th></th>\n",
              "    </tr>\n",
              "  </thead>\n",
              "  <tbody>\n",
              "    <tr>\n",
              "      <th>Наличие АЗС С Кафе или отдельных объектов общественного питания в радиусе 30км.</th>\n",
              "      <td>126799</td>\n",
              "    </tr>\n",
              "    <tr>\n",
              "      <th>Наличие (Вкусно и точка, Бургер Кинг, KFC/Ростикс) с drive thru в радиусе 30км</th>\n",
              "      <td>111150</td>\n",
              "    </tr>\n",
              "    <tr>\n",
              "      <th>Наличие объектов общественного питания в шаговой доступности от АЗС</th>\n",
              "      <td>102120</td>\n",
              "    </tr>\n",
              "    <tr>\n",
              "      <th>Наличие (Вкусно и точка, Бургер Кинг, KFC/Ростикс) с drive thru в шаговой доступности от АЗС</th>\n",
              "      <td>57531</td>\n",
              "    </tr>\n",
              "    <tr>\n",
              "      <th>Нет конкурентов</th>\n",
              "      <td>57222</td>\n",
              "    </tr>\n",
              "    <tr>\n",
              "      <th>Наличие АЗС только с магазином  или отдельных стоячего магазина в радиусе 30км.</th>\n",
              "      <td>11071</td>\n",
              "    </tr>\n",
              "  </tbody>\n",
              "</table>\n",
              "</div><br><label><b>dtype:</b> int64</label>"
            ]
          },
          "metadata": {},
          "execution_count": 28
        }
      ]
    },
    {
      "cell_type": "code",
      "source": [
        "df['flag_compet'] = np.where(df['competitor'] == 'Нет конкурентов', 'нет', 'да')"
      ],
      "metadata": {
        "id": "ed1mm2AU37nc"
      },
      "execution_count": 25,
      "outputs": []
    },
    {
      "cell_type": "code",
      "source": [
        "df_f = df.copy()"
      ],
      "metadata": {
        "id": "GanfliRMsa_G"
      },
      "execution_count": 27,
      "outputs": []
    },
    {
      "cell_type": "code",
      "source": [
        "# df_f.head()"
      ],
      "metadata": {
        "id": "8OjjJ0eesjiM"
      },
      "execution_count": 29,
      "outputs": []
    },
    {
      "cell_type": "markdown",
      "source": [
        "Удалим столбец md5, у нас есть index."
      ],
      "metadata": {
        "id": "LYayPtRL-CCu"
      }
    },
    {
      "cell_type": "code",
      "source": [
        "df.drop(['md5'], axis= 1 , inplace= True )"
      ],
      "metadata": {
        "id": "eQ-4zKpM-Jwe"
      },
      "execution_count": 30,
      "outputs": []
    },
    {
      "cell_type": "markdown",
      "source": [
        "# Выбор модели"
      ],
      "metadata": {
        "id": "h7Lda9KFAvAV"
      }
    },
    {
      "cell_type": "markdown",
      "source": [
        "## Разбиение на обучающие и тестовые наборы, преобразование признаков"
      ],
      "metadata": {
        "id": "9wOYzxBlB1tD"
      }
    },
    {
      "cell_type": "code",
      "source": [
        "X = df.drop('quantity',axis=1)\n",
        "y = df['quantity']"
      ],
      "metadata": {
        "id": "arhnq5Q8B6hB"
      },
      "execution_count": 31,
      "outputs": []
    },
    {
      "cell_type": "markdown",
      "source": [
        "Преобразование признаков"
      ],
      "metadata": {
        "id": "eSuQmuVVd5XC"
      }
    },
    {
      "cell_type": "code",
      "source": [
        "df_nums = X.select_dtypes(exclude='object')\n",
        "df_objs = X.select_dtypes(include='object')\n",
        "\n",
        "#Категориальные признаки\n",
        "# df_objs = pd.get_dummies(df_objs,drop_first=True)\n",
        "ohe = OneHotEncoder(sparse_output=False, handle_unknown='ignore')\n",
        "df_objs = ohe.fit_transform(df_objs)\n",
        "\n",
        "#Дискретные признаки\n",
        "scaler = StandardScaler()\n",
        "df_nums = scaler.fit_transform(df_nums)"
      ],
      "metadata": {
        "id": "p7yWbAkXd7qz"
      },
      "execution_count": 32,
      "outputs": []
    },
    {
      "cell_type": "code",
      "source": [
        "column_names_num = X.select_dtypes(exclude='object').columns.tolist()\n",
        "column_names_num"
      ],
      "metadata": {
        "colab": {
          "base_uri": "https://localhost:8080/"
        },
        "id": "wAqYNTFOd_nF",
        "outputId": "5de95e69-be4c-4ff4-d0a8-1ec6daa29721"
      },
      "execution_count": 33,
      "outputs": [
        {
          "output_type": "execute_result",
          "data": {
            "text/plain": [
              "['price',\n",
              " 'sum_fuel_day',\n",
              " 'sum_fuel_hour',\n",
              " 'segment',\n",
              " 'year',\n",
              " 'month',\n",
              " 'dayofmonth',\n",
              " 'hour',\n",
              " 'dayofweek',\n",
              " 'conv_day']"
            ]
          },
          "metadata": {},
          "execution_count": 33
        }
      ]
    },
    {
      "cell_type": "code",
      "source": [
        "X = pd.concat([pd.DataFrame(df_nums, columns=column_names_num),\n",
        "                pd.DataFrame(df_objs, columns=ohe.get_feature_names_out()),\n",
        "                ],axis=1)\n",
        "X.head(3)"
      ],
      "metadata": {
        "colab": {
          "base_uri": "https://localhost:8080/",
          "height": 279
        },
        "id": "g0A3FdQ_eEsM",
        "outputId": "2100e596-98ca-4ccb-cee7-e3db6f7d9202"
      },
      "execution_count": 34,
      "outputs": [
        {
          "output_type": "execute_result",
          "data": {
            "text/plain": [
              "      price  sum_fuel_day  sum_fuel_hour   segment      year     month  \\\n",
              "0  1.053039      1.559382       0.511331  1.253788 -1.061441  0.117745   \n",
              "1  0.687463      1.559382       0.511331  1.253788 -1.061441  0.117745   \n",
              "2  0.760578      1.559382       0.511331  1.253788 -1.061441  0.117745   \n",
              "\n",
              "   dayofmonth      hour  dayofweek  conv_day  ...  shop_area_range_120-180  \\\n",
              "0   -0.431261 -0.462529  -0.516513 -0.013308  ...                      0.0   \n",
              "1   -0.431261 -0.462529  -0.516513 -0.013308  ...                      0.0   \n",
              "2   -0.431261 -0.462529  -0.516513 -0.013308  ...                      0.0   \n",
              "\n",
              "   shop_area_range_60-120  shop_area_range_<60  \\\n",
              "0                     1.0                  0.0   \n",
              "1                     1.0                  0.0   \n",
              "2                     1.0                  0.0   \n",
              "\n",
              "   competitor_Наличие (Вкусно и точка, Бургер Кинг, KFC/Ростикс) с drive thru в радиусе 30км   \\\n",
              "0                                                0.0                                            \n",
              "1                                                0.0                                            \n",
              "2                                                0.0                                            \n",
              "\n",
              "   competitor_Наличие (Вкусно и точка, Бургер Кинг, KFC/Ростикс) с drive thru в шаговой доступности от АЗС   \\\n",
              "0                                                0.0                                                          \n",
              "1                                                0.0                                                          \n",
              "2                                                0.0                                                          \n",
              "\n",
              "   competitor_Наличие АЗС С Кафе или отдельных объектов общественного питания в радиусе 30км.  \\\n",
              "0                                                1.0                                            \n",
              "1                                                1.0                                            \n",
              "2                                                1.0                                            \n",
              "\n",
              "   competitor_Наличие АЗС только с магазином  или отдельных стоячего магазина в радиусе 30км.  \\\n",
              "0                                                0.0                                            \n",
              "1                                                0.0                                            \n",
              "2                                                0.0                                            \n",
              "\n",
              "   competitor_Наличие объектов общественного питания в шаговой доступности от АЗС  \\\n",
              "0                                                0.0                                \n",
              "1                                                0.0                                \n",
              "2                                                0.0                                \n",
              "\n",
              "   competitor_Нет конкурентов   flag_compet_да  \n",
              "0                          0.0             1.0  \n",
              "1                          0.0             1.0  \n",
              "2                          0.0             1.0  \n",
              "\n",
              "[3 rows x 24 columns]"
            ],
            "text/html": [
              "\n",
              "  <div id=\"df-fe83ecd3-c7a5-4aca-9cf9-991842807c0e\" class=\"colab-df-container\">\n",
              "    <div>\n",
              "<style scoped>\n",
              "    .dataframe tbody tr th:only-of-type {\n",
              "        vertical-align: middle;\n",
              "    }\n",
              "\n",
              "    .dataframe tbody tr th {\n",
              "        vertical-align: top;\n",
              "    }\n",
              "\n",
              "    .dataframe thead th {\n",
              "        text-align: right;\n",
              "    }\n",
              "</style>\n",
              "<table border=\"1\" class=\"dataframe\">\n",
              "  <thead>\n",
              "    <tr style=\"text-align: right;\">\n",
              "      <th></th>\n",
              "      <th>price</th>\n",
              "      <th>sum_fuel_day</th>\n",
              "      <th>sum_fuel_hour</th>\n",
              "      <th>segment</th>\n",
              "      <th>year</th>\n",
              "      <th>month</th>\n",
              "      <th>dayofmonth</th>\n",
              "      <th>hour</th>\n",
              "      <th>dayofweek</th>\n",
              "      <th>conv_day</th>\n",
              "      <th>...</th>\n",
              "      <th>shop_area_range_120-180</th>\n",
              "      <th>shop_area_range_60-120</th>\n",
              "      <th>shop_area_range_&lt;60</th>\n",
              "      <th>competitor_Наличие (Вкусно и точка, Бургер Кинг, KFC/Ростикс) с drive thru в радиусе 30км</th>\n",
              "      <th>competitor_Наличие (Вкусно и точка, Бургер Кинг, KFC/Ростикс) с drive thru в шаговой доступности от АЗС</th>\n",
              "      <th>competitor_Наличие АЗС С Кафе или отдельных объектов общественного питания в радиусе 30км.</th>\n",
              "      <th>competitor_Наличие АЗС только с магазином  или отдельных стоячего магазина в радиусе 30км.</th>\n",
              "      <th>competitor_Наличие объектов общественного питания в шаговой доступности от АЗС</th>\n",
              "      <th>competitor_Нет конкурентов</th>\n",
              "      <th>flag_compet_да</th>\n",
              "    </tr>\n",
              "  </thead>\n",
              "  <tbody>\n",
              "    <tr>\n",
              "      <th>0</th>\n",
              "      <td>1.053039</td>\n",
              "      <td>1.559382</td>\n",
              "      <td>0.511331</td>\n",
              "      <td>1.253788</td>\n",
              "      <td>-1.061441</td>\n",
              "      <td>0.117745</td>\n",
              "      <td>-0.431261</td>\n",
              "      <td>-0.462529</td>\n",
              "      <td>-0.516513</td>\n",
              "      <td>-0.013308</td>\n",
              "      <td>...</td>\n",
              "      <td>0.0</td>\n",
              "      <td>1.0</td>\n",
              "      <td>0.0</td>\n",
              "      <td>0.0</td>\n",
              "      <td>0.0</td>\n",
              "      <td>1.0</td>\n",
              "      <td>0.0</td>\n",
              "      <td>0.0</td>\n",
              "      <td>0.0</td>\n",
              "      <td>1.0</td>\n",
              "    </tr>\n",
              "    <tr>\n",
              "      <th>1</th>\n",
              "      <td>0.687463</td>\n",
              "      <td>1.559382</td>\n",
              "      <td>0.511331</td>\n",
              "      <td>1.253788</td>\n",
              "      <td>-1.061441</td>\n",
              "      <td>0.117745</td>\n",
              "      <td>-0.431261</td>\n",
              "      <td>-0.462529</td>\n",
              "      <td>-0.516513</td>\n",
              "      <td>-0.013308</td>\n",
              "      <td>...</td>\n",
              "      <td>0.0</td>\n",
              "      <td>1.0</td>\n",
              "      <td>0.0</td>\n",
              "      <td>0.0</td>\n",
              "      <td>0.0</td>\n",
              "      <td>1.0</td>\n",
              "      <td>0.0</td>\n",
              "      <td>0.0</td>\n",
              "      <td>0.0</td>\n",
              "      <td>1.0</td>\n",
              "    </tr>\n",
              "    <tr>\n",
              "      <th>2</th>\n",
              "      <td>0.760578</td>\n",
              "      <td>1.559382</td>\n",
              "      <td>0.511331</td>\n",
              "      <td>1.253788</td>\n",
              "      <td>-1.061441</td>\n",
              "      <td>0.117745</td>\n",
              "      <td>-0.431261</td>\n",
              "      <td>-0.462529</td>\n",
              "      <td>-0.516513</td>\n",
              "      <td>-0.013308</td>\n",
              "      <td>...</td>\n",
              "      <td>0.0</td>\n",
              "      <td>1.0</td>\n",
              "      <td>0.0</td>\n",
              "      <td>0.0</td>\n",
              "      <td>0.0</td>\n",
              "      <td>1.0</td>\n",
              "      <td>0.0</td>\n",
              "      <td>0.0</td>\n",
              "      <td>0.0</td>\n",
              "      <td>1.0</td>\n",
              "    </tr>\n",
              "  </tbody>\n",
              "</table>\n",
              "<p>3 rows × 24 columns</p>\n",
              "</div>\n",
              "    <div class=\"colab-df-buttons\">\n",
              "\n",
              "  <div class=\"colab-df-container\">\n",
              "    <button class=\"colab-df-convert\" onclick=\"convertToInteractive('df-fe83ecd3-c7a5-4aca-9cf9-991842807c0e')\"\n",
              "            title=\"Convert this dataframe to an interactive table.\"\n",
              "            style=\"display:none;\">\n",
              "\n",
              "  <svg xmlns=\"http://www.w3.org/2000/svg\" height=\"24px\" viewBox=\"0 -960 960 960\">\n",
              "    <path d=\"M120-120v-720h720v720H120Zm60-500h600v-160H180v160Zm220 220h160v-160H400v160Zm0 220h160v-160H400v160ZM180-400h160v-160H180v160Zm440 0h160v-160H620v160ZM180-180h160v-160H180v160Zm440 0h160v-160H620v160Z\"/>\n",
              "  </svg>\n",
              "    </button>\n",
              "\n",
              "  <style>\n",
              "    .colab-df-container {\n",
              "      display:flex;\n",
              "      gap: 12px;\n",
              "    }\n",
              "\n",
              "    .colab-df-convert {\n",
              "      background-color: #E8F0FE;\n",
              "      border: none;\n",
              "      border-radius: 50%;\n",
              "      cursor: pointer;\n",
              "      display: none;\n",
              "      fill: #1967D2;\n",
              "      height: 32px;\n",
              "      padding: 0 0 0 0;\n",
              "      width: 32px;\n",
              "    }\n",
              "\n",
              "    .colab-df-convert:hover {\n",
              "      background-color: #E2EBFA;\n",
              "      box-shadow: 0px 1px 2px rgba(60, 64, 67, 0.3), 0px 1px 3px 1px rgba(60, 64, 67, 0.15);\n",
              "      fill: #174EA6;\n",
              "    }\n",
              "\n",
              "    .colab-df-buttons div {\n",
              "      margin-bottom: 4px;\n",
              "    }\n",
              "\n",
              "    [theme=dark] .colab-df-convert {\n",
              "      background-color: #3B4455;\n",
              "      fill: #D2E3FC;\n",
              "    }\n",
              "\n",
              "    [theme=dark] .colab-df-convert:hover {\n",
              "      background-color: #434B5C;\n",
              "      box-shadow: 0px 1px 3px 1px rgba(0, 0, 0, 0.15);\n",
              "      filter: drop-shadow(0px 1px 2px rgba(0, 0, 0, 0.3));\n",
              "      fill: #FFFFFF;\n",
              "    }\n",
              "  </style>\n",
              "\n",
              "    <script>\n",
              "      const buttonEl =\n",
              "        document.querySelector('#df-fe83ecd3-c7a5-4aca-9cf9-991842807c0e button.colab-df-convert');\n",
              "      buttonEl.style.display =\n",
              "        google.colab.kernel.accessAllowed ? 'block' : 'none';\n",
              "\n",
              "      async function convertToInteractive(key) {\n",
              "        const element = document.querySelector('#df-fe83ecd3-c7a5-4aca-9cf9-991842807c0e');\n",
              "        const dataTable =\n",
              "          await google.colab.kernel.invokeFunction('convertToInteractive',\n",
              "                                                    [key], {});\n",
              "        if (!dataTable) return;\n",
              "\n",
              "        const docLinkHtml = 'Like what you see? Visit the ' +\n",
              "          '<a target=\"_blank\" href=https://colab.research.google.com/notebooks/data_table.ipynb>data table notebook</a>'\n",
              "          + ' to learn more about interactive tables.';\n",
              "        element.innerHTML = '';\n",
              "        dataTable['output_type'] = 'display_data';\n",
              "        await google.colab.output.renderOutput(dataTable, element);\n",
              "        const docLink = document.createElement('div');\n",
              "        docLink.innerHTML = docLinkHtml;\n",
              "        element.appendChild(docLink);\n",
              "      }\n",
              "    </script>\n",
              "  </div>\n",
              "\n",
              "\n",
              "<div id=\"df-09805524-7247-4438-b0e4-30dda2998cbb\">\n",
              "  <button class=\"colab-df-quickchart\" onclick=\"quickchart('df-09805524-7247-4438-b0e4-30dda2998cbb')\"\n",
              "            title=\"Suggest charts\"\n",
              "            style=\"display:none;\">\n",
              "\n",
              "<svg xmlns=\"http://www.w3.org/2000/svg\" height=\"24px\"viewBox=\"0 0 24 24\"\n",
              "     width=\"24px\">\n",
              "    <g>\n",
              "        <path d=\"M19 3H5c-1.1 0-2 .9-2 2v14c0 1.1.9 2 2 2h14c1.1 0 2-.9 2-2V5c0-1.1-.9-2-2-2zM9 17H7v-7h2v7zm4 0h-2V7h2v10zm4 0h-2v-4h2v4z\"/>\n",
              "    </g>\n",
              "</svg>\n",
              "  </button>\n",
              "\n",
              "<style>\n",
              "  .colab-df-quickchart {\n",
              "      --bg-color: #E8F0FE;\n",
              "      --fill-color: #1967D2;\n",
              "      --hover-bg-color: #E2EBFA;\n",
              "      --hover-fill-color: #174EA6;\n",
              "      --disabled-fill-color: #AAA;\n",
              "      --disabled-bg-color: #DDD;\n",
              "  }\n",
              "\n",
              "  [theme=dark] .colab-df-quickchart {\n",
              "      --bg-color: #3B4455;\n",
              "      --fill-color: #D2E3FC;\n",
              "      --hover-bg-color: #434B5C;\n",
              "      --hover-fill-color: #FFFFFF;\n",
              "      --disabled-bg-color: #3B4455;\n",
              "      --disabled-fill-color: #666;\n",
              "  }\n",
              "\n",
              "  .colab-df-quickchart {\n",
              "    background-color: var(--bg-color);\n",
              "    border: none;\n",
              "    border-radius: 50%;\n",
              "    cursor: pointer;\n",
              "    display: none;\n",
              "    fill: var(--fill-color);\n",
              "    height: 32px;\n",
              "    padding: 0;\n",
              "    width: 32px;\n",
              "  }\n",
              "\n",
              "  .colab-df-quickchart:hover {\n",
              "    background-color: var(--hover-bg-color);\n",
              "    box-shadow: 0 1px 2px rgba(60, 64, 67, 0.3), 0 1px 3px 1px rgba(60, 64, 67, 0.15);\n",
              "    fill: var(--button-hover-fill-color);\n",
              "  }\n",
              "\n",
              "  .colab-df-quickchart-complete:disabled,\n",
              "  .colab-df-quickchart-complete:disabled:hover {\n",
              "    background-color: var(--disabled-bg-color);\n",
              "    fill: var(--disabled-fill-color);\n",
              "    box-shadow: none;\n",
              "  }\n",
              "\n",
              "  .colab-df-spinner {\n",
              "    border: 2px solid var(--fill-color);\n",
              "    border-color: transparent;\n",
              "    border-bottom-color: var(--fill-color);\n",
              "    animation:\n",
              "      spin 1s steps(1) infinite;\n",
              "  }\n",
              "\n",
              "  @keyframes spin {\n",
              "    0% {\n",
              "      border-color: transparent;\n",
              "      border-bottom-color: var(--fill-color);\n",
              "      border-left-color: var(--fill-color);\n",
              "    }\n",
              "    20% {\n",
              "      border-color: transparent;\n",
              "      border-left-color: var(--fill-color);\n",
              "      border-top-color: var(--fill-color);\n",
              "    }\n",
              "    30% {\n",
              "      border-color: transparent;\n",
              "      border-left-color: var(--fill-color);\n",
              "      border-top-color: var(--fill-color);\n",
              "      border-right-color: var(--fill-color);\n",
              "    }\n",
              "    40% {\n",
              "      border-color: transparent;\n",
              "      border-right-color: var(--fill-color);\n",
              "      border-top-color: var(--fill-color);\n",
              "    }\n",
              "    60% {\n",
              "      border-color: transparent;\n",
              "      border-right-color: var(--fill-color);\n",
              "    }\n",
              "    80% {\n",
              "      border-color: transparent;\n",
              "      border-right-color: var(--fill-color);\n",
              "      border-bottom-color: var(--fill-color);\n",
              "    }\n",
              "    90% {\n",
              "      border-color: transparent;\n",
              "      border-bottom-color: var(--fill-color);\n",
              "    }\n",
              "  }\n",
              "</style>\n",
              "\n",
              "  <script>\n",
              "    async function quickchart(key) {\n",
              "      const quickchartButtonEl =\n",
              "        document.querySelector('#' + key + ' button');\n",
              "      quickchartButtonEl.disabled = true;  // To prevent multiple clicks.\n",
              "      quickchartButtonEl.classList.add('colab-df-spinner');\n",
              "      try {\n",
              "        const charts = await google.colab.kernel.invokeFunction(\n",
              "            'suggestCharts', [key], {});\n",
              "      } catch (error) {\n",
              "        console.error('Error during call to suggestCharts:', error);\n",
              "      }\n",
              "      quickchartButtonEl.classList.remove('colab-df-spinner');\n",
              "      quickchartButtonEl.classList.add('colab-df-quickchart-complete');\n",
              "    }\n",
              "    (() => {\n",
              "      let quickchartButtonEl =\n",
              "        document.querySelector('#df-09805524-7247-4438-b0e4-30dda2998cbb button');\n",
              "      quickchartButtonEl.style.display =\n",
              "        google.colab.kernel.accessAllowed ? 'block' : 'none';\n",
              "    })();\n",
              "  </script>\n",
              "</div>\n",
              "    </div>\n",
              "  </div>\n"
            ],
            "application/vnd.google.colaboratory.intrinsic+json": {
              "type": "dataframe",
              "variable_name": "X"
            }
          },
          "metadata": {},
          "execution_count": 34
        }
      ]
    },
    {
      "cell_type": "markdown",
      "source": [
        "Итак, мы реализовали EDA и получили 24 признака."
      ],
      "metadata": {
        "id": "vvFeK77dAPgi"
      }
    },
    {
      "cell_type": "markdown",
      "source": [
        "Разбиение на выборки"
      ],
      "metadata": {
        "id": "ZgHRh5XKPM1x"
      }
    },
    {
      "cell_type": "code",
      "source": [
        "X_train, X_test, y_train, y_test = train_test_split(X, y, test_size=0.3, random_state=42)"
      ],
      "metadata": {
        "id": "6V1urbTTePg1"
      },
      "execution_count": 35,
      "outputs": []
    },
    {
      "cell_type": "markdown",
      "source": [
        "## Вспомогательная функция для запуска моделей"
      ],
      "metadata": {
        "id": "jdpGx041yJEL"
      }
    },
    {
      "cell_type": "code",
      "source": [
        "def run_model(model,X_train,y_train,X_test,y_test):\n",
        "\n",
        "    # Обучение модели\n",
        "    model.fit(X_train,y_train)\n",
        "\n",
        "    # Вычисление предсказания и метрик. Для предсказания используем математическое округление, так как товар штучный\n",
        "\n",
        "    preds = model.predict(X_test)      #np.round(abs((model.predict(X_test))))\n",
        "\n",
        "    rmse = np.sqrt(mean_squared_error(y_test,preds))\n",
        "    mae = mean_absolute_error(y_test,preds)\n",
        "    mape = mean_absolute_percentage_error(y_test,preds)\n",
        "    print(f'RMSE : {rmse}')\n",
        "    print(f'MAE : {mae}')\n",
        "\n",
        "\n",
        "    # Рисуем график с указанием количества предсказанных значений\n",
        "\n",
        "    preds = np.round(abs(preds))\n",
        "    y_hats_df = pd.DataFrame(data = preds, columns = ['preds'], index = X_test.index.copy())\n",
        "    df_out = pd.merge(df, y_hats_df, how = 'left', left_index = True, right_index = True)\n",
        "    df_out = df_out.dropna(subset=['preds'])\n",
        "    df_out['Flag'] = np.where(df_out['preds'] == df_out['quantity'] , 1, 0)\n",
        "\n",
        "    accuracy = sum(df_out['Flag'])/len(df_out) * 100\n",
        "    print(f'Accuracy : {accuracy}')\n",
        "    sns.set_style('whitegrid')\n",
        "    plt.figure(figsize=(8,5))\n",
        "\n",
        "    ax = sns.countplot(data=df_out, x='Flag', hue = 'Flag', palette='Set1')    #YlOrBr_r   Set2   palette = \"YlOrBr_r\"  ,  Set3  dark:salmon\n",
        "    sns.despine(left=True)\n",
        "    ax.bar_label(ax.containers[0], label_type='center')\n",
        "    ax.bar_label(ax.containers[1], label_type='center')\n",
        "    plt.title('Предсказание верно - 1, неверно - 0', fontsize=20)\n",
        "\n",
        "\n"
      ],
      "metadata": {
        "id": "dLTSZTYMyQK4"
      },
      "execution_count": 36,
      "outputs": []
    },
    {
      "cell_type": "markdown",
      "source": [
        "## ElasticNet"
      ],
      "metadata": {
        "id": "3UqFk5ERBmzk"
      }
    },
    {
      "cell_type": "markdown",
      "source": [
        "Для улучшения модели используем подбор гиперпарметров"
      ],
      "metadata": {
        "id": "NFk45Ny0P8BV"
      }
    },
    {
      "cell_type": "code",
      "source": [
        "elastic_model = ElasticNet()"
      ],
      "metadata": {
        "id": "mHBi7sKSBs_Q"
      },
      "execution_count": 47,
      "outputs": []
    },
    {
      "cell_type": "code",
      "source": [
        "param_grid = {'alpha':[0.1,1,5,10,50,100],\n",
        "              'l1_ratio':[.1, .5, .7, .9, .95, .99, 1]}"
      ],
      "metadata": {
        "id": "8CUt_SmqCj8F"
      },
      "execution_count": 48,
      "outputs": []
    },
    {
      "cell_type": "code",
      "source": [
        "grid_model = GridSearchCV(estimator=elastic_model,\n",
        "                          param_grid=param_grid,\n",
        "                          scoring='neg_mean_squared_error',\n",
        "                          cv=5,\n",
        "                          verbose=1)"
      ],
      "metadata": {
        "id": "CzMb3alYCnj4"
      },
      "execution_count": 49,
      "outputs": []
    },
    {
      "cell_type": "code",
      "source": [
        "grid_model.fit(X_train,y_train)"
      ],
      "metadata": {
        "colab": {
          "base_uri": "https://localhost:8080/",
          "height": 137
        },
        "id": "LxtHhfJsCy1y",
        "outputId": "db8cd7e1-5a4c-4e72-82ba-a90aee5e3c6d"
      },
      "execution_count": 50,
      "outputs": [
        {
          "output_type": "stream",
          "name": "stdout",
          "text": [
            "Fitting 5 folds for each of 42 candidates, totalling 210 fits\n"
          ]
        },
        {
          "output_type": "execute_result",
          "data": {
            "text/plain": [
              "GridSearchCV(cv=5, estimator=ElasticNet(),\n",
              "             param_grid={'alpha': [0.1, 1, 5, 10, 50, 100],\n",
              "                         'l1_ratio': [0.1, 0.5, 0.7, 0.9, 0.95, 0.99, 1]},\n",
              "             scoring='neg_mean_squared_error', verbose=1)"
            ],
            "text/html": [
              "<style>#sk-container-id-1 {color: black;}#sk-container-id-1 pre{padding: 0;}#sk-container-id-1 div.sk-toggleable {background-color: white;}#sk-container-id-1 label.sk-toggleable__label {cursor: pointer;display: block;width: 100%;margin-bottom: 0;padding: 0.3em;box-sizing: border-box;text-align: center;}#sk-container-id-1 label.sk-toggleable__label-arrow:before {content: \"▸\";float: left;margin-right: 0.25em;color: #696969;}#sk-container-id-1 label.sk-toggleable__label-arrow:hover:before {color: black;}#sk-container-id-1 div.sk-estimator:hover label.sk-toggleable__label-arrow:before {color: black;}#sk-container-id-1 div.sk-toggleable__content {max-height: 0;max-width: 0;overflow: hidden;text-align: left;background-color: #f0f8ff;}#sk-container-id-1 div.sk-toggleable__content pre {margin: 0.2em;color: black;border-radius: 0.25em;background-color: #f0f8ff;}#sk-container-id-1 input.sk-toggleable__control:checked~div.sk-toggleable__content {max-height: 200px;max-width: 100%;overflow: auto;}#sk-container-id-1 input.sk-toggleable__control:checked~label.sk-toggleable__label-arrow:before {content: \"▾\";}#sk-container-id-1 div.sk-estimator input.sk-toggleable__control:checked~label.sk-toggleable__label {background-color: #d4ebff;}#sk-container-id-1 div.sk-label input.sk-toggleable__control:checked~label.sk-toggleable__label {background-color: #d4ebff;}#sk-container-id-1 input.sk-hidden--visually {border: 0;clip: rect(1px 1px 1px 1px);clip: rect(1px, 1px, 1px, 1px);height: 1px;margin: -1px;overflow: hidden;padding: 0;position: absolute;width: 1px;}#sk-container-id-1 div.sk-estimator {font-family: monospace;background-color: #f0f8ff;border: 1px dotted black;border-radius: 0.25em;box-sizing: border-box;margin-bottom: 0.5em;}#sk-container-id-1 div.sk-estimator:hover {background-color: #d4ebff;}#sk-container-id-1 div.sk-parallel-item::after {content: \"\";width: 100%;border-bottom: 1px solid gray;flex-grow: 1;}#sk-container-id-1 div.sk-label:hover label.sk-toggleable__label {background-color: #d4ebff;}#sk-container-id-1 div.sk-serial::before {content: \"\";position: absolute;border-left: 1px solid gray;box-sizing: border-box;top: 0;bottom: 0;left: 50%;z-index: 0;}#sk-container-id-1 div.sk-serial {display: flex;flex-direction: column;align-items: center;background-color: white;padding-right: 0.2em;padding-left: 0.2em;position: relative;}#sk-container-id-1 div.sk-item {position: relative;z-index: 1;}#sk-container-id-1 div.sk-parallel {display: flex;align-items: stretch;justify-content: center;background-color: white;position: relative;}#sk-container-id-1 div.sk-item::before, #sk-container-id-1 div.sk-parallel-item::before {content: \"\";position: absolute;border-left: 1px solid gray;box-sizing: border-box;top: 0;bottom: 0;left: 50%;z-index: -1;}#sk-container-id-1 div.sk-parallel-item {display: flex;flex-direction: column;z-index: 1;position: relative;background-color: white;}#sk-container-id-1 div.sk-parallel-item:first-child::after {align-self: flex-end;width: 50%;}#sk-container-id-1 div.sk-parallel-item:last-child::after {align-self: flex-start;width: 50%;}#sk-container-id-1 div.sk-parallel-item:only-child::after {width: 0;}#sk-container-id-1 div.sk-dashed-wrapped {border: 1px dashed gray;margin: 0 0.4em 0.5em 0.4em;box-sizing: border-box;padding-bottom: 0.4em;background-color: white;}#sk-container-id-1 div.sk-label label {font-family: monospace;font-weight: bold;display: inline-block;line-height: 1.2em;}#sk-container-id-1 div.sk-label-container {text-align: center;}#sk-container-id-1 div.sk-container {/* jupyter's `normalize.less` sets `[hidden] { display: none; }` but bootstrap.min.css set `[hidden] { display: none !important; }` so we also need the `!important` here to be able to override the default hidden behavior on the sphinx rendered scikit-learn.org. See: https://github.com/scikit-learn/scikit-learn/issues/21755 */display: inline-block !important;position: relative;}#sk-container-id-1 div.sk-text-repr-fallback {display: none;}</style><div id=\"sk-container-id-1\" class=\"sk-top-container\"><div class=\"sk-text-repr-fallback\"><pre>GridSearchCV(cv=5, estimator=ElasticNet(),\n",
              "             param_grid={&#x27;alpha&#x27;: [0.1, 1, 5, 10, 50, 100],\n",
              "                         &#x27;l1_ratio&#x27;: [0.1, 0.5, 0.7, 0.9, 0.95, 0.99, 1]},\n",
              "             scoring=&#x27;neg_mean_squared_error&#x27;, verbose=1)</pre><b>In a Jupyter environment, please rerun this cell to show the HTML representation or trust the notebook. <br />On GitHub, the HTML representation is unable to render, please try loading this page with nbviewer.org.</b></div><div class=\"sk-container\" hidden><div class=\"sk-item sk-dashed-wrapped\"><div class=\"sk-label-container\"><div class=\"sk-label sk-toggleable\"><input class=\"sk-toggleable__control sk-hidden--visually\" id=\"sk-estimator-id-1\" type=\"checkbox\" ><label for=\"sk-estimator-id-1\" class=\"sk-toggleable__label sk-toggleable__label-arrow\">GridSearchCV</label><div class=\"sk-toggleable__content\"><pre>GridSearchCV(cv=5, estimator=ElasticNet(),\n",
              "             param_grid={&#x27;alpha&#x27;: [0.1, 1, 5, 10, 50, 100],\n",
              "                         &#x27;l1_ratio&#x27;: [0.1, 0.5, 0.7, 0.9, 0.95, 0.99, 1]},\n",
              "             scoring=&#x27;neg_mean_squared_error&#x27;, verbose=1)</pre></div></div></div><div class=\"sk-parallel\"><div class=\"sk-parallel-item\"><div class=\"sk-item\"><div class=\"sk-label-container\"><div class=\"sk-label sk-toggleable\"><input class=\"sk-toggleable__control sk-hidden--visually\" id=\"sk-estimator-id-2\" type=\"checkbox\" ><label for=\"sk-estimator-id-2\" class=\"sk-toggleable__label sk-toggleable__label-arrow\">estimator: ElasticNet</label><div class=\"sk-toggleable__content\"><pre>ElasticNet()</pre></div></div></div><div class=\"sk-serial\"><div class=\"sk-item\"><div class=\"sk-estimator sk-toggleable\"><input class=\"sk-toggleable__control sk-hidden--visually\" id=\"sk-estimator-id-3\" type=\"checkbox\" ><label for=\"sk-estimator-id-3\" class=\"sk-toggleable__label sk-toggleable__label-arrow\">ElasticNet</label><div class=\"sk-toggleable__content\"><pre>ElasticNet()</pre></div></div></div></div></div></div></div></div></div></div>"
            ]
          },
          "metadata": {},
          "execution_count": 50
        }
      ]
    },
    {
      "cell_type": "code",
      "source": [
        "grid_model.best_params_"
      ],
      "metadata": {
        "colab": {
          "base_uri": "https://localhost:8080/"
        },
        "id": "DHPHtT9ADKaG",
        "outputId": "ae5cdcfa-78ae-4d4d-ceda-fad7a2b8c215"
      },
      "execution_count": 51,
      "outputs": [
        {
          "output_type": "execute_result",
          "data": {
            "text/plain": [
              "{'alpha': 0.1, 'l1_ratio': 0.1}"
            ]
          },
          "metadata": {},
          "execution_count": 51
        }
      ]
    },
    {
      "cell_type": "markdown",
      "source": [
        "Определились с гиперпараметрами: {'alpha': 0.1, 'l1_ratio': 0.1}"
      ],
      "metadata": {
        "id": "hOESo_6HQkbB"
      }
    },
    {
      "cell_type": "code",
      "source": [
        "elastic_model_cor = ElasticNet(alpha= 0.1, l1_ratio = 0.1)"
      ],
      "metadata": {
        "id": "LglBCCPnDRCp"
      },
      "execution_count": 52,
      "outputs": []
    },
    {
      "cell_type": "code",
      "source": [
        "run_model(elastic_model_cor,X_train,y_train,X_test,y_test)"
      ],
      "metadata": {
        "colab": {
          "base_uri": "https://localhost:8080/",
          "height": 550
        },
        "id": "lT_QEBJbDsPK",
        "outputId": "be585dad-2548-417f-f6ea-ebbb7945d313"
      },
      "execution_count": 53,
      "outputs": [
        {
          "output_type": "stream",
          "name": "stdout",
          "text": [
            "RMSE : 0.8383407419212183\n",
            "MAE : 0.4412283057867348\n",
            "Accuracy : 75.25256138744206\n"
          ]
        },
        {
          "output_type": "display_data",
          "data": {
            "text/plain": [
              "<Figure size 800x500 with 1 Axes>"
            ],
            "image/png": "[encoded data removed]"
          },
          "metadata": {}
        }
      ]
    },
    {
      "cell_type": "markdown",
      "source": [
        "## Случайные леса"
      ],
      "metadata": {
        "id": "Lz1Yng1GpEWy"
      }
    },
    {
      "cell_type": "code",
      "source": [
        "model_rf = RandomForestRegressor(n_estimators=50)"
      ],
      "metadata": {
        "id": "9R3uRAvUpMN3"
      },
      "execution_count": 37,
      "outputs": []
    },
    {
      "cell_type": "code",
      "source": [
        "run_model(model_rf,X_train,y_train,X_test,y_test)"
      ],
      "metadata": {
        "colab": {
          "base_uri": "https://localhost:8080/",
          "height": 550
        },
        "id": "ZblfeR-i8vHx",
        "outputId": "9ce4e7c0-1447-4162-f8cd-832d6945e8a3"
      },
      "execution_count": 39,
      "outputs": [
        {
          "output_type": "stream",
          "name": "stdout",
          "text": [
            "RMSE : 0.06922450802294126\n",
            "MAE : 0.003071375422128095\n",
            "Accuracy : 99.81970121916318\n"
          ]
        },
        {
          "output_type": "display_data",
          "data": {
            "text/plain": [
              "<Figure size 800x500 with 1 Axes>"
            ],
            "image/png": "[encoded data removed]"
          },
          "metadata": {}
        }
      ]
    },
    {
      "cell_type": "markdown",
      "source": [
        "Посмотрим на признаки"
      ],
      "metadata": {
        "id": "UBzZ8_PhFEIG"
      }
    },
    {
      "cell_type": "code",
      "source": [
        "# feat_import = model_rf.feature_importances_\n",
        "# imp_feats = pd.DataFrame(index=X.columns,data=feat_import,columns=['Importance'])\n",
        "# imp_feats.sort_values(\"Importance\",ascending=False)"
      ],
      "metadata": {
        "id": "y0gcev1eQedn"
      },
      "execution_count": 40,
      "outputs": []
    },
    {
      "cell_type": "markdown",
      "source": [
        "## Градиентный бустинг"
      ],
      "metadata": {
        "id": "F3B8JVklshPf"
      }
    },
    {
      "cell_type": "code",
      "source": [
        "model_gb = GradientBoostingRegressor()\n",
        "\n",
        "run_model(model_gb,X_train,y_train,X_test,y_test)"
      ],
      "metadata": {
        "colab": {
          "base_uri": "https://localhost:8080/",
          "height": 550
        },
        "id": "HKYmlUvXsmTj",
        "outputId": "8cf4185d-4ab3-42f7-9da3-2cb21f3fbe90"
      },
      "execution_count": 40,
      "outputs": [
        {
          "output_type": "stream",
          "name": "stdout",
          "text": [
            "RMSE : 0.09494820583012144\n",
            "MAE : 0.042476197092905545\n",
            "Accuracy : 99.5928968004121\n"
          ]
        },
        {
          "output_type": "display_data",
          "data": {
            "text/plain": [
              "<Figure size 800x500 with 1 Axes>"
            ],
            "image/png": "[encoded data removed]"
          },
          "metadata": {}
        }
      ]
    },
    {
      "cell_type": "markdown",
      "source": [
        "Посмотрим на признаки"
      ],
      "metadata": {
        "id": "GJphD18-FikQ"
      }
    },
    {
      "cell_type": "code",
      "source": [
        "feat_import = model_gb.feature_importances_\n",
        "imp_feats = pd.DataFrame(index=X.columns,data=feat_import,columns=['Importance'])\n",
        "imp_feats.sort_values(\"Importance\",ascending=False)"
      ],
      "metadata": {
        "colab": {
          "base_uri": "https://localhost:8080/",
          "height": 802
        },
        "id": "ADVmoqVH-3Tn",
        "outputId": "4aaa1254-4e8e-4fd7-fd4b-0052c77620d2"
      },
      "execution_count": 46,
      "outputs": [
        {
          "output_type": "execute_result",
          "data": {
            "text/plain": [
              "                                                      Importance\n",
              "conv_day                                            7.160115e-01\n",
              "sum_fuel_day                                        2.205527e-01\n",
              "price                                               6.050704e-02\n",
              "sum_fuel_hour                                       2.911640e-03\n",
              "month                                               6.204845e-06\n",
              "dayofweek                                           4.551845e-06\n",
              "hour                                                2.325212e-06\n",
              "location_ksss_федеральная трасса                    1.727688e-06\n",
              "shop_area_range_120-180                             1.189410e-06\n",
              "location_ksss_спальный район                        1.158300e-06\n",
              "shop_area_range_60-120                              2.637064e-08\n",
              "location_ksss_оживленная гор.магистраль             0.000000e+00\n",
              "location_ksss_промзона                              0.000000e+00\n",
              "dayofmonth                                          0.000000e+00\n",
              "year                                                0.000000e+00\n",
              "segment                                             0.000000e+00\n",
              "shop_area_range_<60                                 0.000000e+00\n",
              "competitor_Наличие (Вкусно и точка, Бургер Кинг...  0.000000e+00\n",
              "competitor_Наличие (Вкусно и точка, Бургер Кинг...  0.000000e+00\n",
              "competitor_Наличие АЗС С Кафе или отдельных объ...  0.000000e+00\n",
              "competitor_Наличие АЗС только с магазином  или ...  0.000000e+00\n",
              "competitor_Наличие объектов общественного питан...  0.000000e+00\n",
              "competitor_Нет конкурентов                          0.000000e+00\n",
              "flag_compet_да                                      0.000000e+00"
            ],
            "text/html": [
              "\n",
              "  <div id=\"df-b30d87fc-c5cd-4d2a-bdeb-b4e1d57b8265\" class=\"colab-df-container\">\n",
              "    <div>\n",
              "<style scoped>\n",
              "    .dataframe tbody tr th:only-of-type {\n",
              "        vertical-align: middle;\n",
              "    }\n",
              "\n",
              "    .dataframe tbody tr th {\n",
              "        vertical-align: top;\n",
              "    }\n",
              "\n",
              "    .dataframe thead th {\n",
              "        text-align: right;\n",
              "    }\n",
              "</style>\n",
              "<table border=\"1\" class=\"dataframe\">\n",
              "  <thead>\n",
              "    <tr style=\"text-align: right;\">\n",
              "      <th></th>\n",
              "      <th>Importance</th>\n",
              "    </tr>\n",
              "  </thead>\n",
              "  <tbody>\n",
              "    <tr>\n",
              "      <th>conv_day</th>\n",
              "      <td>7.160115e-01</td>\n",
              "    </tr>\n",
              "    <tr>\n",
              "      <th>sum_fuel_day</th>\n",
              "      <td>2.205527e-01</td>\n",
              "    </tr>\n",
              "    <tr>\n",
              "      <th>price</th>\n",
              "      <td>6.050704e-02</td>\n",
              "    </tr>\n",
              "    <tr>\n",
              "      <th>sum_fuel_hour</th>\n",
              "      <td>2.911640e-03</td>\n",
              "    </tr>\n",
              "    <tr>\n",
              "      <th>month</th>\n",
              "      <td>6.204845e-06</td>\n",
              "    </tr>\n",
              "    <tr>\n",
              "      <th>dayofweek</th>\n",
              "      <td>4.551845e-06</td>\n",
              "    </tr>\n",
              "    <tr>\n",
              "      <th>hour</th>\n",
              "      <td>2.325212e-06</td>\n",
              "    </tr>\n",
              "    <tr>\n",
              "      <th>location_ksss_федеральная трасса</th>\n",
              "      <td>1.727688e-06</td>\n",
              "    </tr>\n",
              "    <tr>\n",
              "      <th>shop_area_range_120-180</th>\n",
              "      <td>1.189410e-06</td>\n",
              "    </tr>\n",
              "    <tr>\n",
              "      <th>location_ksss_спальный район</th>\n",
              "      <td>1.158300e-06</td>\n",
              "    </tr>\n",
              "    <tr>\n",
              "      <th>shop_area_range_60-120</th>\n",
              "      <td>2.637064e-08</td>\n",
              "    </tr>\n",
              "    <tr>\n",
              "      <th>location_ksss_оживленная гор.магистраль</th>\n",
              "      <td>0.000000e+00</td>\n",
              "    </tr>\n",
              "    <tr>\n",
              "      <th>location_ksss_промзона</th>\n",
              "      <td>0.000000e+00</td>\n",
              "    </tr>\n",
              "    <tr>\n",
              "      <th>dayofmonth</th>\n",
              "      <td>0.000000e+00</td>\n",
              "    </tr>\n",
              "    <tr>\n",
              "      <th>year</th>\n",
              "      <td>0.000000e+00</td>\n",
              "    </tr>\n",
              "    <tr>\n",
              "      <th>segment</th>\n",
              "      <td>0.000000e+00</td>\n",
              "    </tr>\n",
              "    <tr>\n",
              "      <th>shop_area_range_&lt;60</th>\n",
              "      <td>0.000000e+00</td>\n",
              "    </tr>\n",
              "    <tr>\n",
              "      <th>competitor_Наличие (Вкусно и точка, Бургер Кинг, KFC/Ростикс) с drive thru в радиусе 30км</th>\n",
              "      <td>0.000000e+00</td>\n",
              "    </tr>\n",
              "    <tr>\n",
              "      <th>competitor_Наличие (Вкусно и точка, Бургер Кинг, KFC/Ростикс) с drive thru в шаговой доступности от АЗС</th>\n",
              "      <td>0.000000e+00</td>\n",
              "    </tr>\n",
              "    <tr>\n",
              "      <th>competitor_Наличие АЗС С Кафе или отдельных объектов общественного питания в радиусе 30км.</th>\n",
              "      <td>0.000000e+00</td>\n",
              "    </tr>\n",
              "    <tr>\n",
              "      <th>competitor_Наличие АЗС только с магазином  или отдельных стоячего магазина в радиусе 30км.</th>\n",
              "      <td>0.000000e+00</td>\n",
              "    </tr>\n",
              "    <tr>\n",
              "      <th>competitor_Наличие объектов общественного питания в шаговой доступности от АЗС</th>\n",
              "      <td>0.000000e+00</td>\n",
              "    </tr>\n",
              "    <tr>\n",
              "      <th>competitor_Нет конкурентов</th>\n",
              "      <td>0.000000e+00</td>\n",
              "    </tr>\n",
              "    <tr>\n",
              "      <th>flag_compet_да</th>\n",
              "      <td>0.000000e+00</td>\n",
              "    </tr>\n",
              "  </tbody>\n",
              "</table>\n",
              "</div>\n",
              "    <div class=\"colab-df-buttons\">\n",
              "\n",
              "  <div class=\"colab-df-container\">\n",
              "    <button class=\"colab-df-convert\" onclick=\"convertToInteractive('df-b30d87fc-c5cd-4d2a-bdeb-b4e1d57b8265')\"\n",
              "            title=\"Convert this dataframe to an interactive table.\"\n",
              "            style=\"display:none;\">\n",
              "\n",
              "  <svg xmlns=\"http://www.w3.org/2000/svg\" height=\"24px\" viewBox=\"0 -960 960 960\">\n",
              "    <path d=\"M120-120v-720h720v720H120Zm60-500h600v-160H180v160Zm220 220h160v-160H400v160Zm0 220h160v-160H400v160ZM180-400h160v-160H180v160Zm440 0h160v-160H620v160ZM180-180h160v-160H180v160Zm440 0h160v-160H620v160Z\"/>\n",
              "  </svg>\n",
              "    </button>\n",
              "\n",
              "  <style>\n",
              "    .colab-df-container {\n",
              "      display:flex;\n",
              "      gap: 12px;\n",
              "    }\n",
              "\n",
              "    .colab-df-convert {\n",
              "      background-color: #E8F0FE;\n",
              "      border: none;\n",
              "      border-radius: 50%;\n",
              "      cursor: pointer;\n",
              "      display: none;\n",
              "      fill: #1967D2;\n",
              "      height: 32px;\n",
              "      padding: 0 0 0 0;\n",
              "      width: 32px;\n",
              "    }\n",
              "\n",
              "    .colab-df-convert:hover {\n",
              "      background-color: #E2EBFA;\n",
              "      box-shadow: 0px 1px 2px rgba(60, 64, 67, 0.3), 0px 1px 3px 1px rgba(60, 64, 67, 0.15);\n",
              "      fill: #174EA6;\n",
              "    }\n",
              "\n",
              "    .colab-df-buttons div {\n",
              "      margin-bottom: 4px;\n",
              "    }\n",
              "\n",
              "    [theme=dark] .colab-df-convert {\n",
              "      background-color: #3B4455;\n",
              "      fill: #D2E3FC;\n",
              "    }\n",
              "\n",
              "    [theme=dark] .colab-df-convert:hover {\n",
              "      background-color: #434B5C;\n",
              "      box-shadow: 0px 1px 3px 1px rgba(0, 0, 0, 0.15);\n",
              "      filter: drop-shadow(0px 1px 2px rgba(0, 0, 0, 0.3));\n",
              "      fill: #FFFFFF;\n",
              "    }\n",
              "  </style>\n",
              "\n",
              "    <script>\n",
              "      const buttonEl =\n",
              "        document.querySelector('#df-b30d87fc-c5cd-4d2a-bdeb-b4e1d57b8265 button.colab-df-convert');\n",
              "      buttonEl.style.display =\n",
              "        google.colab.kernel.accessAllowed ? 'block' : 'none';\n",
              "\n",
              "      async function convertToInteractive(key) {\n",
              "        const element = document.querySelector('#df-b30d87fc-c5cd-4d2a-bdeb-b4e1d57b8265');\n",
              "        const dataTable =\n",
              "          await google.colab.kernel.invokeFunction('convertToInteractive',\n",
              "                                                    [key], {});\n",
              "        if (!dataTable) return;\n",
              "\n",
              "        const docLinkHtml = 'Like what you see? Visit the ' +\n",
              "          '<a target=\"_blank\" href=https://colab.research.google.com/notebooks/data_table.ipynb>data table notebook</a>'\n",
              "          + ' to learn more about interactive tables.';\n",
              "        element.innerHTML = '';\n",
              "        dataTable['output_type'] = 'display_data';\n",
              "        await google.colab.output.renderOutput(dataTable, element);\n",
              "        const docLink = document.createElement('div');\n",
              "        docLink.innerHTML = docLinkHtml;\n",
              "        element.appendChild(docLink);\n",
              "      }\n",
              "    </script>\n",
              "  </div>\n",
              "\n",
              "\n",
              "<div id=\"df-d8fb8758-546d-4e30-bfd1-0b8b19ec369c\">\n",
              "  <button class=\"colab-df-quickchart\" onclick=\"quickchart('df-d8fb8758-546d-4e30-bfd1-0b8b19ec369c')\"\n",
              "            title=\"Suggest charts\"\n",
              "            style=\"display:none;\">\n",
              "\n",
              "<svg xmlns=\"http://www.w3.org/2000/svg\" height=\"24px\"viewBox=\"0 0 24 24\"\n",
              "     width=\"24px\">\n",
              "    <g>\n",
              "        <path d=\"M19 3H5c-1.1 0-2 .9-2 2v14c0 1.1.9 2 2 2h14c1.1 0 2-.9 2-2V5c0-1.1-.9-2-2-2zM9 17H7v-7h2v7zm4 0h-2V7h2v10zm4 0h-2v-4h2v4z\"/>\n",
              "    </g>\n",
              "</svg>\n",
              "  </button>\n",
              "\n",
              "<style>\n",
              "  .colab-df-quickchart {\n",
              "      --bg-color: #E8F0FE;\n",
              "      --fill-color: #1967D2;\n",
              "      --hover-bg-color: #E2EBFA;\n",
              "      --hover-fill-color: #174EA6;\n",
              "      --disabled-fill-color: #AAA;\n",
              "      --disabled-bg-color: #DDD;\n",
              "  }\n",
              "\n",
              "  [theme=dark] .colab-df-quickchart {\n",
              "      --bg-color: #3B4455;\n",
              "      --fill-color: #D2E3FC;\n",
              "      --hover-bg-color: #434B5C;\n",
              "      --hover-fill-color: #FFFFFF;\n",
              "      --disabled-bg-color: #3B4455;\n",
              "      --disabled-fill-color: #666;\n",
              "  }\n",
              "\n",
              "  .colab-df-quickchart {\n",
              "    background-color: var(--bg-color);\n",
              "    border: none;\n",
              "    border-radius: 50%;\n",
              "    cursor: pointer;\n",
              "    display: none;\n",
              "    fill: var(--fill-color);\n",
              "    height: 32px;\n",
              "    padding: 0;\n",
              "    width: 32px;\n",
              "  }\n",
              "\n",
              "  .colab-df-quickchart:hover {\n",
              "    background-color: var(--hover-bg-color);\n",
              "    box-shadow: 0 1px 2px rgba(60, 64, 67, 0.3), 0 1px 3px 1px rgba(60, 64, 67, 0.15);\n",
              "    fill: var(--button-hover-fill-color);\n",
              "  }\n",
              "\n",
              "  .colab-df-quickchart-complete:disabled,\n",
              "  .colab-df-quickchart-complete:disabled:hover {\n",
              "    background-color: var(--disabled-bg-color);\n",
              "    fill: var(--disabled-fill-color);\n",
              "    box-shadow: none;\n",
              "  }\n",
              "\n",
              "  .colab-df-spinner {\n",
              "    border: 2px solid var(--fill-color);\n",
              "    border-color: transparent;\n",
              "    border-bottom-color: var(--fill-color);\n",
              "    animation:\n",
              "      spin 1s steps(1) infinite;\n",
              "  }\n",
              "\n",
              "  @keyframes spin {\n",
              "    0% {\n",
              "      border-color: transparent;\n",
              "      border-bottom-color: var(--fill-color);\n",
              "      border-left-color: var(--fill-color);\n",
              "    }\n",
              "    20% {\n",
              "      border-color: transparent;\n",
              "      border-left-color: var(--fill-color);\n",
              "      border-top-color: var(--fill-color);\n",
              "    }\n",
              "    30% {\n",
              "      border-color: transparent;\n",
              "      border-left-color: var(--fill-color);\n",
              "      border-top-color: var(--fill-color);\n",
              "      border-right-color: var(--fill-color);\n",
              "    }\n",
              "    40% {\n",
              "      border-color: transparent;\n",
              "      border-right-color: var(--fill-color);\n",
              "      border-top-color: var(--fill-color);\n",
              "    }\n",
              "    60% {\n",
              "      border-color: transparent;\n",
              "      border-right-color: var(--fill-color);\n",
              "    }\n",
              "    80% {\n",
              "      border-color: transparent;\n",
              "      border-right-color: var(--fill-color);\n",
              "      border-bottom-color: var(--fill-color);\n",
              "    }\n",
              "    90% {\n",
              "      border-color: transparent;\n",
              "      border-bottom-color: var(--fill-color);\n",
              "    }\n",
              "  }\n",
              "</style>\n",
              "\n",
              "  <script>\n",
              "    async function quickchart(key) {\n",
              "      const quickchartButtonEl =\n",
              "        document.querySelector('#' + key + ' button');\n",
              "      quickchartButtonEl.disabled = true;  // To prevent multiple clicks.\n",
              "      quickchartButtonEl.classList.add('colab-df-spinner');\n",
              "      try {\n",
              "        const charts = await google.colab.kernel.invokeFunction(\n",
              "            'suggestCharts', [key], {});\n",
              "      } catch (error) {\n",
              "        console.error('Error during call to suggestCharts:', error);\n",
              "      }\n",
              "      quickchartButtonEl.classList.remove('colab-df-spinner');\n",
              "      quickchartButtonEl.classList.add('colab-df-quickchart-complete');\n",
              "    }\n",
              "    (() => {\n",
              "      let quickchartButtonEl =\n",
              "        document.querySelector('#df-d8fb8758-546d-4e30-bfd1-0b8b19ec369c button');\n",
              "      quickchartButtonEl.style.display =\n",
              "        google.colab.kernel.accessAllowed ? 'block' : 'none';\n",
              "    })();\n",
              "  </script>\n",
              "</div>\n",
              "    </div>\n",
              "  </div>\n"
            ],
            "application/vnd.google.colaboratory.intrinsic+json": {
              "type": "dataframe",
              "summary": "{\n  \"name\": \"imp_feats\",\n  \"rows\": 24,\n  \"fields\": [\n    {\n      \"column\": \"Importance\",\n      \"properties\": {\n        \"dtype\": \"number\",\n        \"std\": 0.15084094797083117,\n        \"min\": 0.0,\n        \"max\": 0.71601145890607,\n        \"num_unique_values\": 12,\n        \"samples\": [\n          2.637063879118133e-08,\n          1.1583002277844248e-06,\n          0.71601145890607\n        ],\n        \"semantic_type\": \"\",\n        \"description\": \"\"\n      }\n    }\n  ]\n}"
            }
          },
          "metadata": {},
          "execution_count": 46
        }
      ]
    },
    {
      "cell_type": "markdown",
      "source": [
        "## Выбор модели, отбор признаков"
      ],
      "metadata": {
        "id": "3ZLfXf5tH_5w"
      }
    },
    {
      "cell_type": "markdown",
      "source": [
        "Лучше всего показала себя модель случайного леса, попробуем улучшить ее, убрав часть признаков. Посмотрим еще раз на них. Оставим те, где Importance > 0.0001"
      ],
      "metadata": {
        "id": "GyN_PEpklU5-"
      }
    },
    {
      "cell_type": "code",
      "source": [
        "feat_import = model_rf.feature_importances_\n",
        "imp_feats = pd.DataFrame(index=X.columns,data=feat_import,columns=['Importance'])\n",
        "imp_feats.sort_values(\"Importance\",ascending=False)"
      ],
      "metadata": {
        "colab": {
          "base_uri": "https://localhost:8080/",
          "height": 802
        },
        "id": "UV2fpoKDISKm",
        "outputId": "1a35c856-b918-474f-d2cf-652ecfa18b90"
      },
      "execution_count": 41,
      "outputs": [
        {
          "output_type": "execute_result",
          "data": {
            "text/plain": [
              "                                                    Importance\n",
              "conv_day                                              0.702150\n",
              "sum_fuel_day                                          0.239120\n",
              "price                                                 0.057415\n",
              "hour                                                  0.000318\n",
              "sum_fuel_hour                                         0.000311\n",
              "dayofmonth                                            0.000221\n",
              "dayofweek                                             0.000138\n",
              "month                                                 0.000117\n",
              "segment                                               0.000026\n",
              "location_ksss_федеральная трасса                      0.000026\n",
              "competitor_Наличие (Вкусно и точка, Бургер Кинг...    0.000025\n",
              "competitor_Наличие АЗС С Кафе или отдельных объ...    0.000023\n",
              "shop_area_range_60-120                                0.000017\n",
              "year                                                  0.000016\n",
              "shop_area_range_<60                                   0.000014\n",
              "competitor_Наличие (Вкусно и точка, Бургер Кинг...    0.000012\n",
              "competitor_Нет конкурентов                            0.000011\n",
              "location_ksss_спальный район                          0.000010\n",
              "competitor_Наличие объектов общественного питан...    0.000009\n",
              "location_ksss_оживленная гор.магистраль               0.000008\n",
              "competitor_Наличие АЗС только с магазином  или ...    0.000008\n",
              "location_ksss_промзона                                0.000006\n",
              "shop_area_range_120-180                               0.000002\n",
              "flag_compet_да                                        0.000000"
            ],
            "text/html": [
              "\n",
              "  <div id=\"df-fb7850ca-c328-440d-8e2d-90557c052bf5\" class=\"colab-df-container\">\n",
              "    <div>\n",
              "<style scoped>\n",
              "    .dataframe tbody tr th:only-of-type {\n",
              "        vertical-align: middle;\n",
              "    }\n",
              "\n",
              "    .dataframe tbody tr th {\n",
              "        vertical-align: top;\n",
              "    }\n",
              "\n",
              "    .dataframe thead th {\n",
              "        text-align: right;\n",
              "    }\n",
              "</style>\n",
              "<table border=\"1\" class=\"dataframe\">\n",
              "  <thead>\n",
              "    <tr style=\"text-align: right;\">\n",
              "      <th></th>\n",
              "      <th>Importance</th>\n",
              "    </tr>\n",
              "  </thead>\n",
              "  <tbody>\n",
              "    <tr>\n",
              "      <th>conv_day</th>\n",
              "      <td>0.702150</td>\n",
              "    </tr>\n",
              "    <tr>\n",
              "      <th>sum_fuel_day</th>\n",
              "      <td>0.239120</td>\n",
              "    </tr>\n",
              "    <tr>\n",
              "      <th>price</th>\n",
              "      <td>0.057415</td>\n",
              "    </tr>\n",
              "    <tr>\n",
              "      <th>hour</th>\n",
              "      <td>0.000318</td>\n",
              "    </tr>\n",
              "    <tr>\n",
              "      <th>sum_fuel_hour</th>\n",
              "      <td>0.000311</td>\n",
              "    </tr>\n",
              "    <tr>\n",
              "      <th>dayofmonth</th>\n",
              "      <td>0.000221</td>\n",
              "    </tr>\n",
              "    <tr>\n",
              "      <th>dayofweek</th>\n",
              "      <td>0.000138</td>\n",
              "    </tr>\n",
              "    <tr>\n",
              "      <th>month</th>\n",
              "      <td>0.000117</td>\n",
              "    </tr>\n",
              "    <tr>\n",
              "      <th>segment</th>\n",
              "      <td>0.000026</td>\n",
              "    </tr>\n",
              "    <tr>\n",
              "      <th>location_ksss_федеральная трасса</th>\n",
              "      <td>0.000026</td>\n",
              "    </tr>\n",
              "    <tr>\n",
              "      <th>competitor_Наличие (Вкусно и точка, Бургер Кинг, KFC/Ростикс) с drive thru в радиусе 30км</th>\n",
              "      <td>0.000025</td>\n",
              "    </tr>\n",
              "    <tr>\n",
              "      <th>competitor_Наличие АЗС С Кафе или отдельных объектов общественного питания в радиусе 30км.</th>\n",
              "      <td>0.000023</td>\n",
              "    </tr>\n",
              "    <tr>\n",
              "      <th>shop_area_range_60-120</th>\n",
              "      <td>0.000017</td>\n",
              "    </tr>\n",
              "    <tr>\n",
              "      <th>year</th>\n",
              "      <td>0.000016</td>\n",
              "    </tr>\n",
              "    <tr>\n",
              "      <th>shop_area_range_&lt;60</th>\n",
              "      <td>0.000014</td>\n",
              "    </tr>\n",
              "    <tr>\n",
              "      <th>competitor_Наличие (Вкусно и точка, Бургер Кинг, KFC/Ростикс) с drive thru в шаговой доступности от АЗС</th>\n",
              "      <td>0.000012</td>\n",
              "    </tr>\n",
              "    <tr>\n",
              "      <th>competitor_Нет конкурентов</th>\n",
              "      <td>0.000011</td>\n",
              "    </tr>\n",
              "    <tr>\n",
              "      <th>location_ksss_спальный район</th>\n",
              "      <td>0.000010</td>\n",
              "    </tr>\n",
              "    <tr>\n",
              "      <th>competitor_Наличие объектов общественного питания в шаговой доступности от АЗС</th>\n",
              "      <td>0.000009</td>\n",
              "    </tr>\n",
              "    <tr>\n",
              "      <th>location_ksss_оживленная гор.магистраль</th>\n",
              "      <td>0.000008</td>\n",
              "    </tr>\n",
              "    <tr>\n",
              "      <th>competitor_Наличие АЗС только с магазином  или отдельных стоячего магазина в радиусе 30км.</th>\n",
              "      <td>0.000008</td>\n",
              "    </tr>\n",
              "    <tr>\n",
              "      <th>location_ksss_промзона</th>\n",
              "      <td>0.000006</td>\n",
              "    </tr>\n",
              "    <tr>\n",
              "      <th>shop_area_range_120-180</th>\n",
              "      <td>0.000002</td>\n",
              "    </tr>\n",
              "    <tr>\n",
              "      <th>flag_compet_да</th>\n",
              "      <td>0.000000</td>\n",
              "    </tr>\n",
              "  </tbody>\n",
              "</table>\n",
              "</div>\n",
              "    <div class=\"colab-df-buttons\">\n",
              "\n",
              "  <div class=\"colab-df-container\">\n",
              "    <button class=\"colab-df-convert\" onclick=\"convertToInteractive('df-fb7850ca-c328-440d-8e2d-90557c052bf5')\"\n",
              "            title=\"Convert this dataframe to an interactive table.\"\n",
              "            style=\"display:none;\">\n",
              "\n",
              "  <svg xmlns=\"http://www.w3.org/2000/svg\" height=\"24px\" viewBox=\"0 -960 960 960\">\n",
              "    <path d=\"M120-120v-720h720v720H120Zm60-500h600v-160H180v160Zm220 220h160v-160H400v160Zm0 220h160v-160H400v160ZM180-400h160v-160H180v160Zm440 0h160v-160H620v160ZM180-180h160v-160H180v160Zm440 0h160v-160H620v160Z\"/>\n",
              "  </svg>\n",
              "    </button>\n",
              "\n",
              "  <style>\n",
              "    .colab-df-container {\n",
              "      display:flex;\n",
              "      gap: 12px;\n",
              "    }\n",
              "\n",
              "    .colab-df-convert {\n",
              "      background-color: #E8F0FE;\n",
              "      border: none;\n",
              "      border-radius: 50%;\n",
              "      cursor: pointer;\n",
              "      display: none;\n",
              "      fill: #1967D2;\n",
              "      height: 32px;\n",
              "      padding: 0 0 0 0;\n",
              "      width: 32px;\n",
              "    }\n",
              "\n",
              "    .colab-df-convert:hover {\n",
              "      background-color: #E2EBFA;\n",
              "      box-shadow: 0px 1px 2px rgba(60, 64, 67, 0.3), 0px 1px 3px 1px rgba(60, 64, 67, 0.15);\n",
              "      fill: #174EA6;\n",
              "    }\n",
              "\n",
              "    .colab-df-buttons div {\n",
              "      margin-bottom: 4px;\n",
              "    }\n",
              "\n",
              "    [theme=dark] .colab-df-convert {\n",
              "      background-color: #3B4455;\n",
              "      fill: #D2E3FC;\n",
              "    }\n",
              "\n",
              "    [theme=dark] .colab-df-convert:hover {\n",
              "      background-color: #434B5C;\n",
              "      box-shadow: 0px 1px 3px 1px rgba(0, 0, 0, 0.15);\n",
              "      filter: drop-shadow(0px 1px 2px rgba(0, 0, 0, 0.3));\n",
              "      fill: #FFFFFF;\n",
              "    }\n",
              "  </style>\n",
              "\n",
              "    <script>\n",
              "      const buttonEl =\n",
              "        document.querySelector('#df-fb7850ca-c328-440d-8e2d-90557c052bf5 button.colab-df-convert');\n",
              "      buttonEl.style.display =\n",
              "        google.colab.kernel.accessAllowed ? 'block' : 'none';\n",
              "\n",
              "      async function convertToInteractive(key) {\n",
              "        const element = document.querySelector('#df-fb7850ca-c328-440d-8e2d-90557c052bf5');\n",
              "        const dataTable =\n",
              "          await google.colab.kernel.invokeFunction('convertToInteractive',\n",
              "                                                    [key], {});\n",
              "        if (!dataTable) return;\n",
              "\n",
              "        const docLinkHtml = 'Like what you see? Visit the ' +\n",
              "          '<a target=\"_blank\" href=https://colab.research.google.com/notebooks/data_table.ipynb>data table notebook</a>'\n",
              "          + ' to learn more about interactive tables.';\n",
              "        element.innerHTML = '';\n",
              "        dataTable['output_type'] = 'display_data';\n",
              "        await google.colab.output.renderOutput(dataTable, element);\n",
              "        const docLink = document.createElement('div');\n",
              "        docLink.innerHTML = docLinkHtml;\n",
              "        element.appendChild(docLink);\n",
              "      }\n",
              "    </script>\n",
              "  </div>\n",
              "\n",
              "\n",
              "<div id=\"df-d34a31ed-33e6-4be3-8b78-9463177529bb\">\n",
              "  <button class=\"colab-df-quickchart\" onclick=\"quickchart('df-d34a31ed-33e6-4be3-8b78-9463177529bb')\"\n",
              "            title=\"Suggest charts\"\n",
              "            style=\"display:none;\">\n",
              "\n",
              "<svg xmlns=\"http://www.w3.org/2000/svg\" height=\"24px\"viewBox=\"0 0 24 24\"\n",
              "     width=\"24px\">\n",
              "    <g>\n",
              "        <path d=\"M19 3H5c-1.1 0-2 .9-2 2v14c0 1.1.9 2 2 2h14c1.1 0 2-.9 2-2V5c0-1.1-.9-2-2-2zM9 17H7v-7h2v7zm4 0h-2V7h2v10zm4 0h-2v-4h2v4z\"/>\n",
              "    </g>\n",
              "</svg>\n",
              "  </button>\n",
              "\n",
              "<style>\n",
              "  .colab-df-quickchart {\n",
              "      --bg-color: #E8F0FE;\n",
              "      --fill-color: #1967D2;\n",
              "      --hover-bg-color: #E2EBFA;\n",
              "      --hover-fill-color: #174EA6;\n",
              "      --disabled-fill-color: #AAA;\n",
              "      --disabled-bg-color: #DDD;\n",
              "  }\n",
              "\n",
              "  [theme=dark] .colab-df-quickchart {\n",
              "      --bg-color: #3B4455;\n",
              "      --fill-color: #D2E3FC;\n",
              "      --hover-bg-color: #434B5C;\n",
              "      --hover-fill-color: #FFFFFF;\n",
              "      --disabled-bg-color: #3B4455;\n",
              "      --disabled-fill-color: #666;\n",
              "  }\n",
              "\n",
              "  .colab-df-quickchart {\n",
              "    background-color: var(--bg-color);\n",
              "    border: none;\n",
              "    border-radius: 50%;\n",
              "    cursor: pointer;\n",
              "    display: none;\n",
              "    fill: var(--fill-color);\n",
              "    height: 32px;\n",
              "    padding: 0;\n",
              "    width: 32px;\n",
              "  }\n",
              "\n",
              "  .colab-df-quickchart:hover {\n",
              "    background-color: var(--hover-bg-color);\n",
              "    box-shadow: 0 1px 2px rgba(60, 64, 67, 0.3), 0 1px 3px 1px rgba(60, 64, 67, 0.15);\n",
              "    fill: var(--button-hover-fill-color);\n",
              "  }\n",
              "\n",
              "  .colab-df-quickchart-complete:disabled,\n",
              "  .colab-df-quickchart-complete:disabled:hover {\n",
              "    background-color: var(--disabled-bg-color);\n",
              "    fill: var(--disabled-fill-color);\n",
              "    box-shadow: none;\n",
              "  }\n",
              "\n",
              "  .colab-df-spinner {\n",
              "    border: 2px solid var(--fill-color);\n",
              "    border-color: transparent;\n",
              "    border-bottom-color: var(--fill-color);\n",
              "    animation:\n",
              "      spin 1s steps(1) infinite;\n",
              "  }\n",
              "\n",
              "  @keyframes spin {\n",
              "    0% {\n",
              "      border-color: transparent;\n",
              "      border-bottom-color: var(--fill-color);\n",
              "      border-left-color: var(--fill-color);\n",
              "    }\n",
              "    20% {\n",
              "      border-color: transparent;\n",
              "      border-left-color: var(--fill-color);\n",
              "      border-top-color: var(--fill-color);\n",
              "    }\n",
              "    30% {\n",
              "      border-color: transparent;\n",
              "      border-left-color: var(--fill-color);\n",
              "      border-top-color: var(--fill-color);\n",
              "      border-right-color: var(--fill-color);\n",
              "    }\n",
              "    40% {\n",
              "      border-color: transparent;\n",
              "      border-right-color: var(--fill-color);\n",
              "      border-top-color: var(--fill-color);\n",
              "    }\n",
              "    60% {\n",
              "      border-color: transparent;\n",
              "      border-right-color: var(--fill-color);\n",
              "    }\n",
              "    80% {\n",
              "      border-color: transparent;\n",
              "      border-right-color: var(--fill-color);\n",
              "      border-bottom-color: var(--fill-color);\n",
              "    }\n",
              "    90% {\n",
              "      border-color: transparent;\n",
              "      border-bottom-color: var(--fill-color);\n",
              "    }\n",
              "  }\n",
              "</style>\n",
              "\n",
              "  <script>\n",
              "    async function quickchart(key) {\n",
              "      const quickchartButtonEl =\n",
              "        document.querySelector('#' + key + ' button');\n",
              "      quickchartButtonEl.disabled = true;  // To prevent multiple clicks.\n",
              "      quickchartButtonEl.classList.add('colab-df-spinner');\n",
              "      try {\n",
              "        const charts = await google.colab.kernel.invokeFunction(\n",
              "            'suggestCharts', [key], {});\n",
              "      } catch (error) {\n",
              "        console.error('Error during call to suggestCharts:', error);\n",
              "      }\n",
              "      quickchartButtonEl.classList.remove('colab-df-spinner');\n",
              "      quickchartButtonEl.classList.add('colab-df-quickchart-complete');\n",
              "    }\n",
              "    (() => {\n",
              "      let quickchartButtonEl =\n",
              "        document.querySelector('#df-d34a31ed-33e6-4be3-8b78-9463177529bb button');\n",
              "      quickchartButtonEl.style.display =\n",
              "        google.colab.kernel.accessAllowed ? 'block' : 'none';\n",
              "    })();\n",
              "  </script>\n",
              "</div>\n",
              "    </div>\n",
              "  </div>\n"
            ],
            "application/vnd.google.colaboratory.intrinsic+json": {
              "type": "dataframe",
              "summary": "{\n  \"name\": \"imp_feats\",\n  \"rows\": 24,\n  \"fields\": [\n    {\n      \"column\": \"Importance\",\n      \"properties\": {\n        \"dtype\": \"number\",\n        \"std\": 0.1491750120513487,\n        \"min\": 0.0,\n        \"max\": 0.7021501510530394,\n        \"num_unique_values\": 24,\n        \"samples\": [\n          2.5985400569706368e-05,\n          1.1046622365862855e-05,\n          0.7021501510530394\n        ],\n        \"semantic_type\": \"\",\n        \"description\": \"\"\n      }\n    }\n  ]\n}"
            }
          },
          "metadata": {},
          "execution_count": 41
        }
      ]
    },
    {
      "cell_type": "code",
      "source": [
        "list_f = ['conv_day', 'sum_fuel_day','price', 'sum_fuel_hour', 'hour', 'dayofmonth', 'dayofweek', 'month']"
      ],
      "metadata": {
        "id": "wPiL4y8LKB5T"
      },
      "execution_count": 42,
      "outputs": []
    },
    {
      "cell_type": "code",
      "source": [
        "X_train, X_test = X_train[list_f], X_test[list_f]"
      ],
      "metadata": {
        "id": "Hm0Q_TSQKzsi"
      },
      "execution_count": 43,
      "outputs": []
    },
    {
      "cell_type": "code",
      "source": [
        "run_model(model_rf,X_train,y_train,X_test,y_test)"
      ],
      "metadata": {
        "colab": {
          "base_uri": "https://localhost:8080/",
          "height": 550
        },
        "id": "GucwKxusLzgV",
        "outputId": "c733d241-9567-455b-a918-4c7760ed2246"
      },
      "execution_count": 44,
      "outputs": [
        {
          "output_type": "stream",
          "name": "stdout",
          "text": [
            "RMSE : 0.07038988959423259\n",
            "MAE : 0.002975359166618966\n",
            "Accuracy : 99.8254249899834\n"
          ]
        },
        {
          "output_type": "display_data",
          "data": {
            "text/plain": [
              "<Figure size 800x500 with 1 Axes>"
            ],
            "image/png": "[encoded data removed]"
          },
          "metadata": {}
        }
      ]
    },
    {
      "cell_type": "markdown",
      "source": [
        "Улучшение модели незначительное, но это на тесте. Применим модель на весь датасет."
      ],
      "metadata": {
        "id": "Rtc8mxR0M-0d"
      }
    },
    {
      "cell_type": "markdown",
      "source": [
        "## Реализация модели, выгрузка в csv"
      ],
      "metadata": {
        "id": "I_pHfVb3NTaO"
      }
    },
    {
      "cell_type": "code",
      "source": [
        "X = X[list_f]"
      ],
      "metadata": {
        "id": "Ex2fYH62NrgU"
      },
      "execution_count": 45,
      "outputs": []
    },
    {
      "cell_type": "code",
      "source": [
        "model_rf.fit(X,y)\n",
        "\n",
        "preds = model_rf.predict(X)"
      ],
      "metadata": {
        "id": "02izfeGWNk-U"
      },
      "execution_count": 46,
      "outputs": []
    },
    {
      "cell_type": "code",
      "source": [
        "preds = np.round(abs(preds))"
      ],
      "metadata": {
        "id": "GiCLpUviU4Jt"
      },
      "execution_count": 47,
      "outputs": []
    },
    {
      "cell_type": "code",
      "source": [
        "hats = pd.DataFrame(data = preds, columns = ['preds'], index = X.index.copy())\n",
        "df_final = pd.merge(df_f, hats, how = 'left', left_index = True, right_index = True)\n"
      ],
      "metadata": {
        "id": "sSX_-hJ0dMnT"
      },
      "execution_count": 48,
      "outputs": []
    },
    {
      "cell_type": "code",
      "source": [
        "df_final.head()"
      ],
      "metadata": {
        "colab": {
          "base_uri": "https://localhost:8080/",
          "height": 380
        },
        "id": "y8o4PRqmdIQ7",
        "outputId": "b5fc287d-3547-44dd-ec65-364f9ed6d442"
      },
      "execution_count": 49,
      "outputs": [
        {
          "output_type": "execute_result",
          "data": {
            "text/plain": [
              "   price  quantity                               md5       location_ksss  \\\n",
              "0  275.0       2.0  e54bacb7737f0a180ed006df65f75e7b  федеральная трасса   \n",
              "1  225.0       2.0  e54bacb7737f0a180ed006df65f75e7b  федеральная трасса   \n",
              "2  235.0       2.0  e54bacb7737f0a180ed006df65f75e7b  федеральная трасса   \n",
              "3  329.0       1.0  d072677d210ac4c03ba046120f0802ec  федеральная трасса   \n",
              "4  259.0       1.0  d072677d210ac4c03ba046120f0802ec  федеральная трасса   \n",
              "\n",
              "  shop_area_range  sum_fuel_day  sum_fuel_hour  \\\n",
              "0          60-120         836.0           30.0   \n",
              "1          60-120         836.0           30.0   \n",
              "2          60-120         836.0           30.0   \n",
              "3             <60         568.0           13.0   \n",
              "4             <60         568.0           13.0   \n",
              "\n",
              "                                          competitor  segment  year  month  \\\n",
              "0  Наличие АЗС С Кафе или отдельных объектов обще...     11.0  2023      7   \n",
              "1  Наличие АЗС С Кафе или отдельных объектов обще...     11.0  2023      7   \n",
              "2  Наличие АЗС С Кафе или отдельных объектов обще...     11.0  2023      7   \n",
              "3  Наличие АЗС только с магазином  или отдельных ...     11.0  2023     12   \n",
              "4  Наличие АЗС только с магазином  или отдельных ...     11.0  2023     12   \n",
              "\n",
              "   dayofmonth  hour  dayofweek  conv_day flag_compet  preds  \n",
              "0          12     9          2    0.0024          да    2.0  \n",
              "1          12     9          2    0.0024          да    2.0  \n",
              "2          12     9          2    0.0024          да    2.0  \n",
              "3          27     5          2    0.0018          да    1.0  \n",
              "4          27     5          2    0.0018          да    1.0  "
            ],
            "text/html": [
              "\n",
              "  <div id=\"df-1b89bdfc-5c83-492c-ab48-fe1a3b102310\" class=\"colab-df-container\">\n",
              "    <div>\n",
              "<style scoped>\n",
              "    .dataframe tbody tr th:only-of-type {\n",
              "        vertical-align: middle;\n",
              "    }\n",
              "\n",
              "    .dataframe tbody tr th {\n",
              "        vertical-align: top;\n",
              "    }\n",
              "\n",
              "    .dataframe thead th {\n",
              "        text-align: right;\n",
              "    }\n",
              "</style>\n",
              "<table border=\"1\" class=\"dataframe\">\n",
              "  <thead>\n",
              "    <tr style=\"text-align: right;\">\n",
              "      <th></th>\n",
              "      <th>price</th>\n",
              "      <th>quantity</th>\n",
              "      <th>md5</th>\n",
              "      <th>location_ksss</th>\n",
              "      <th>shop_area_range</th>\n",
              "      <th>sum_fuel_day</th>\n",
              "      <th>sum_fuel_hour</th>\n",
              "      <th>competitor</th>\n",
              "      <th>segment</th>\n",
              "      <th>year</th>\n",
              "      <th>month</th>\n",
              "      <th>dayofmonth</th>\n",
              "      <th>hour</th>\n",
              "      <th>dayofweek</th>\n",
              "      <th>conv_day</th>\n",
              "      <th>flag_compet</th>\n",
              "      <th>preds</th>\n",
              "    </tr>\n",
              "  </thead>\n",
              "  <tbody>\n",
              "    <tr>\n",
              "      <th>0</th>\n",
              "      <td>275.0</td>\n",
              "      <td>2.0</td>\n",
              "      <td>e54bacb7737f0a180ed006df65f75e7b</td>\n",
              "      <td>федеральная трасса</td>\n",
              "      <td>60-120</td>\n",
              "      <td>836.0</td>\n",
              "      <td>30.0</td>\n",
              "      <td>Наличие АЗС С Кафе или отдельных объектов обще...</td>\n",
              "      <td>11.0</td>\n",
              "      <td>2023</td>\n",
              "      <td>7</td>\n",
              "      <td>12</td>\n",
              "      <td>9</td>\n",
              "      <td>2</td>\n",
              "      <td>0.0024</td>\n",
              "      <td>да</td>\n",
              "      <td>2.0</td>\n",
              "    </tr>\n",
              "    <tr>\n",
              "      <th>1</th>\n",
              "      <td>225.0</td>\n",
              "      <td>2.0</td>\n",
              "      <td>e54bacb7737f0a180ed006df65f75e7b</td>\n",
              "      <td>федеральная трасса</td>\n",
              "      <td>60-120</td>\n",
              "      <td>836.0</td>\n",
              "      <td>30.0</td>\n",
              "      <td>Наличие АЗС С Кафе или отдельных объектов обще...</td>\n",
              "      <td>11.0</td>\n",
              "      <td>2023</td>\n",
              "      <td>7</td>\n",
              "      <td>12</td>\n",
              "      <td>9</td>\n",
              "      <td>2</td>\n",
              "      <td>0.0024</td>\n",
              "      <td>да</td>\n",
              "      <td>2.0</td>\n",
              "    </tr>\n",
              "    <tr>\n",
              "      <th>2</th>\n",
              "      <td>235.0</td>\n",
              "      <td>2.0</td>\n",
              "      <td>e54bacb7737f0a180ed006df65f75e7b</td>\n",
              "      <td>федеральная трасса</td>\n",
              "      <td>60-120</td>\n",
              "      <td>836.0</td>\n",
              "      <td>30.0</td>\n",
              "      <td>Наличие АЗС С Кафе или отдельных объектов обще...</td>\n",
              "      <td>11.0</td>\n",
              "      <td>2023</td>\n",
              "      <td>7</td>\n",
              "      <td>12</td>\n",
              "      <td>9</td>\n",
              "      <td>2</td>\n",
              "      <td>0.0024</td>\n",
              "      <td>да</td>\n",
              "      <td>2.0</td>\n",
              "    </tr>\n",
              "    <tr>\n",
              "      <th>3</th>\n",
              "      <td>329.0</td>\n",
              "      <td>1.0</td>\n",
              "      <td>d072677d210ac4c03ba046120f0802ec</td>\n",
              "      <td>федеральная трасса</td>\n",
              "      <td>&lt;60</td>\n",
              "      <td>568.0</td>\n",
              "      <td>13.0</td>\n",
              "      <td>Наличие АЗС только с магазином  или отдельных ...</td>\n",
              "      <td>11.0</td>\n",
              "      <td>2023</td>\n",
              "      <td>12</td>\n",
              "      <td>27</td>\n",
              "      <td>5</td>\n",
              "      <td>2</td>\n",
              "      <td>0.0018</td>\n",
              "      <td>да</td>\n",
              "      <td>1.0</td>\n",
              "    </tr>\n",
              "    <tr>\n",
              "      <th>4</th>\n",
              "      <td>259.0</td>\n",
              "      <td>1.0</td>\n",
              "      <td>d072677d210ac4c03ba046120f0802ec</td>\n",
              "      <td>федеральная трасса</td>\n",
              "      <td>&lt;60</td>\n",
              "      <td>568.0</td>\n",
              "      <td>13.0</td>\n",
              "      <td>Наличие АЗС только с магазином  или отдельных ...</td>\n",
              "      <td>11.0</td>\n",
              "      <td>2023</td>\n",
              "      <td>12</td>\n",
              "      <td>27</td>\n",
              "      <td>5</td>\n",
              "      <td>2</td>\n",
              "      <td>0.0018</td>\n",
              "      <td>да</td>\n",
              "      <td>1.0</td>\n",
              "    </tr>\n",
              "  </tbody>\n",
              "</table>\n",
              "</div>\n",
              "    <div class=\"colab-df-buttons\">\n",
              "\n",
              "  <div class=\"colab-df-container\">\n",
              "    <button class=\"colab-df-convert\" onclick=\"convertToInteractive('df-1b89bdfc-5c83-492c-ab48-fe1a3b102310')\"\n",
              "            title=\"Convert this dataframe to an interactive table.\"\n",
              "            style=\"display:none;\">\n",
              "\n",
              "  <svg xmlns=\"http://www.w3.org/2000/svg\" height=\"24px\" viewBox=\"0 -960 960 960\">\n",
              "    <path d=\"M120-120v-720h720v720H120Zm60-500h600v-160H180v160Zm220 220h160v-160H400v160Zm0 220h160v-160H400v160ZM180-400h160v-160H180v160Zm440 0h160v-160H620v160ZM180-180h160v-160H180v160Zm440 0h160v-160H620v160Z\"/>\n",
              "  </svg>\n",
              "    </button>\n",
              "\n",
              "  <style>\n",
              "    .colab-df-container {\n",
              "      display:flex;\n",
              "      gap: 12px;\n",
              "    }\n",
              "\n",
              "    .colab-df-convert {\n",
              "      background-color: #E8F0FE;\n",
              "      border: none;\n",
              "      border-radius: 50%;\n",
              "      cursor: pointer;\n",
              "      display: none;\n",
              "      fill: #1967D2;\n",
              "      height: 32px;\n",
              "      padding: 0 0 0 0;\n",
              "      width: 32px;\n",
              "    }\n",
              "\n",
              "    .colab-df-convert:hover {\n",
              "      background-color: #E2EBFA;\n",
              "      box-shadow: 0px 1px 2px rgba(60, 64, 67, 0.3), 0px 1px 3px 1px rgba(60, 64, 67, 0.15);\n",
              "      fill: #174EA6;\n",
              "    }\n",
              "\n",
              "    .colab-df-buttons div {\n",
              "      margin-bottom: 4px;\n",
              "    }\n",
              "\n",
              "    [theme=dark] .colab-df-convert {\n",
              "      background-color: #3B4455;\n",
              "      fill: #D2E3FC;\n",
              "    }\n",
              "\n",
              "    [theme=dark] .colab-df-convert:hover {\n",
              "      background-color: #434B5C;\n",
              "      box-shadow: 0px 1px 3px 1px rgba(0, 0, 0, 0.15);\n",
              "      filter: drop-shadow(0px 1px 2px rgba(0, 0, 0, 0.3));\n",
              "      fill: #FFFFFF;\n",
              "    }\n",
              "  </style>\n",
              "\n",
              "    <script>\n",
              "      const buttonEl =\n",
              "        document.querySelector('#df-1b89bdfc-5c83-492c-ab48-fe1a3b102310 button.colab-df-convert');\n",
              "      buttonEl.style.display =\n",
              "        google.colab.kernel.accessAllowed ? 'block' : 'none';\n",
              "\n",
              "      async function convertToInteractive(key) {\n",
              "        const element = document.querySelector('#df-1b89bdfc-5c83-492c-ab48-fe1a3b102310');\n",
              "        const dataTable =\n",
              "          await google.colab.kernel.invokeFunction('convertToInteractive',\n",
              "                                                    [key], {});\n",
              "        if (!dataTable) return;\n",
              "\n",
              "        const docLinkHtml = 'Like what you see? Visit the ' +\n",
              "          '<a target=\"_blank\" href=https://colab.research.google.com/notebooks/data_table.ipynb>data table notebook</a>'\n",
              "          + ' to learn more about interactive tables.';\n",
              "        element.innerHTML = '';\n",
              "        dataTable['output_type'] = 'display_data';\n",
              "        await google.colab.output.renderOutput(dataTable, element);\n",
              "        const docLink = document.createElement('div');\n",
              "        docLink.innerHTML = docLinkHtml;\n",
              "        element.appendChild(docLink);\n",
              "      }\n",
              "    </script>\n",
              "  </div>\n",
              "\n",
              "\n",
              "<div id=\"df-a2644067-df37-43e6-ada9-18fa556e5d14\">\n",
              "  <button class=\"colab-df-quickchart\" onclick=\"quickchart('df-a2644067-df37-43e6-ada9-18fa556e5d14')\"\n",
              "            title=\"Suggest charts\"\n",
              "            style=\"display:none;\">\n",
              "\n",
              "<svg xmlns=\"http://www.w3.org/2000/svg\" height=\"24px\"viewBox=\"0 0 24 24\"\n",
              "     width=\"24px\">\n",
              "    <g>\n",
              "        <path d=\"M19 3H5c-1.1 0-2 .9-2 2v14c0 1.1.9 2 2 2h14c1.1 0 2-.9 2-2V5c0-1.1-.9-2-2-2zM9 17H7v-7h2v7zm4 0h-2V7h2v10zm4 0h-2v-4h2v4z\"/>\n",
              "    </g>\n",
              "</svg>\n",
              "  </button>\n",
              "\n",
              "<style>\n",
              "  .colab-df-quickchart {\n",
              "      --bg-color: #E8F0FE;\n",
              "      --fill-color: #1967D2;\n",
              "      --hover-bg-color: #E2EBFA;\n",
              "      --hover-fill-color: #174EA6;\n",
              "      --disabled-fill-color: #AAA;\n",
              "      --disabled-bg-color: #DDD;\n",
              "  }\n",
              "\n",
              "  [theme=dark] .colab-df-quickchart {\n",
              "      --bg-color: #3B4455;\n",
              "      --fill-color: #D2E3FC;\n",
              "      --hover-bg-color: #434B5C;\n",
              "      --hover-fill-color: #FFFFFF;\n",
              "      --disabled-bg-color: #3B4455;\n",
              "      --disabled-fill-color: #666;\n",
              "  }\n",
              "\n",
              "  .colab-df-quickchart {\n",
              "    background-color: var(--bg-color);\n",
              "    border: none;\n",
              "    border-radius: 50%;\n",
              "    cursor: pointer;\n",
              "    display: none;\n",
              "    fill: var(--fill-color);\n",
              "    height: 32px;\n",
              "    padding: 0;\n",
              "    width: 32px;\n",
              "  }\n",
              "\n",
              "  .colab-df-quickchart:hover {\n",
              "    background-color: var(--hover-bg-color);\n",
              "    box-shadow: 0 1px 2px rgba(60, 64, 67, 0.3), 0 1px 3px 1px rgba(60, 64, 67, 0.15);\n",
              "    fill: var(--button-hover-fill-color);\n",
              "  }\n",
              "\n",
              "  .colab-df-quickchart-complete:disabled,\n",
              "  .colab-df-quickchart-complete:disabled:hover {\n",
              "    background-color: var(--disabled-bg-color);\n",
              "    fill: var(--disabled-fill-color);\n",
              "    box-shadow: none;\n",
              "  }\n",
              "\n",
              "  .colab-df-spinner {\n",
              "    border: 2px solid var(--fill-color);\n",
              "    border-color: transparent;\n",
              "    border-bottom-color: var(--fill-color);\n",
              "    animation:\n",
              "      spin 1s steps(1) infinite;\n",
              "  }\n",
              "\n",
              "  @keyframes spin {\n",
              "    0% {\n",
              "      border-color: transparent;\n",
              "      border-bottom-color: var(--fill-color);\n",
              "      border-left-color: var(--fill-color);\n",
              "    }\n",
              "    20% {\n",
              "      border-color: transparent;\n",
              "      border-left-color: var(--fill-color);\n",
              "      border-top-color: var(--fill-color);\n",
              "    }\n",
              "    30% {\n",
              "      border-color: transparent;\n",
              "      border-left-color: var(--fill-color);\n",
              "      border-top-color: var(--fill-color);\n",
              "      border-right-color: var(--fill-color);\n",
              "    }\n",
              "    40% {\n",
              "      border-color: transparent;\n",
              "      border-right-color: var(--fill-color);\n",
              "      border-top-color: var(--fill-color);\n",
              "    }\n",
              "    60% {\n",
              "      border-color: transparent;\n",
              "      border-right-color: var(--fill-color);\n",
              "    }\n",
              "    80% {\n",
              "      border-color: transparent;\n",
              "      border-right-color: var(--fill-color);\n",
              "      border-bottom-color: var(--fill-color);\n",
              "    }\n",
              "    90% {\n",
              "      border-color: transparent;\n",
              "      border-bottom-color: var(--fill-color);\n",
              "    }\n",
              "  }\n",
              "</style>\n",
              "\n",
              "  <script>\n",
              "    async function quickchart(key) {\n",
              "      const quickchartButtonEl =\n",
              "        document.querySelector('#' + key + ' button');\n",
              "      quickchartButtonEl.disabled = true;  // To prevent multiple clicks.\n",
              "      quickchartButtonEl.classList.add('colab-df-spinner');\n",
              "      try {\n",
              "        const charts = await google.colab.kernel.invokeFunction(\n",
              "            'suggestCharts', [key], {});\n",
              "      } catch (error) {\n",
              "        console.error('Error during call to suggestCharts:', error);\n",
              "      }\n",
              "      quickchartButtonEl.classList.remove('colab-df-spinner');\n",
              "      quickchartButtonEl.classList.add('colab-df-quickchart-complete');\n",
              "    }\n",
              "    (() => {\n",
              "      let quickchartButtonEl =\n",
              "        document.querySelector('#df-a2644067-df37-43e6-ada9-18fa556e5d14 button');\n",
              "      quickchartButtonEl.style.display =\n",
              "        google.colab.kernel.accessAllowed ? 'block' : 'none';\n",
              "    })();\n",
              "  </script>\n",
              "</div>\n",
              "    </div>\n",
              "  </div>\n"
            ],
            "application/vnd.google.colaboratory.intrinsic+json": {
              "type": "dataframe",
              "variable_name": "df_final"
            }
          },
          "metadata": {},
          "execution_count": 49
        }
      ]
    },
    {
      "cell_type": "code",
      "source": [
        "df_final['Flag'] = np.where(df_final['preds'] == df_final['quantity'] , 1, 0)\n",
        "\n",
        "accuracy = sum(df_final['Flag'])/len(df_final) * 100\n",
        "print(f'Accuracy : {accuracy}')"
      ],
      "metadata": {
        "colab": {
          "base_uri": "https://localhost:8080/"
        },
        "id": "XXRh66O7OLaZ",
        "outputId": "812828d2-f167-4c2f-d0d0-fe348d34c7cb"
      },
      "execution_count": 50,
      "outputs": [
        {
          "output_type": "stream",
          "name": "stdout",
          "text": [
            "Accuracy : 99.96114987776164\n"
          ]
        }
      ]
    },
    {
      "cell_type": "code",
      "source": [
        "# df_final.head()"
      ],
      "metadata": {
        "id": "HZL63XlfuhYg"
      },
      "execution_count": 55,
      "outputs": []
    },
    {
      "cell_type": "markdown",
      "source": [
        "Результат отличный, выгружаем данные в csv и визуализируем в PBI"
      ],
      "metadata": {
        "id": "FzZAG_P8OkQC"
      }
    },
    {
      "cell_type": "code",
      "source": [
        "df_final.to_csv('preds.csv')"
      ],
      "metadata": {
        "id": "-05A-Hk4Ow5R"
      },
      "execution_count": 51,
      "outputs": []
    }
  ]
}